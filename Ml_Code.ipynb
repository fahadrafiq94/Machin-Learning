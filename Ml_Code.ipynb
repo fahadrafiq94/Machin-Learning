{
  "nbformat": 4,
  "nbformat_minor": 0,
  "metadata": {
    "colab": {
      "provenance": [],
      "toc_visible": true
    },
    "kernelspec": {
      "name": "python3",
      "display_name": "Python 3"
    },
    "language_info": {
      "name": "python"
    }
  },
  "cells": [
    {
      "cell_type": "markdown",
      "source": [
        "# Cost Prediction on acquiring Customers Dataset"
      ],
      "metadata": {
        "id": "ozqwuMCQRPcL"
      }
    },
    {
      "cell_type": "markdown",
      "source": [
        "## 1. Getting dataset from kaggle"
      ],
      "metadata": {
        "id": "-w1bYrWFKcZX"
      }
    },
    {
      "cell_type": "code",
      "execution_count": null,
      "metadata": {
        "id": "e9XUP_wGFDK4"
      },
      "outputs": [],
      "source": [
        "# Install the kaggle\n",
        "!pip install -q kaggle"
      ]
    },
    {
      "cell_type": "code",
      "source": [
        "# Choose the kaggle.json file that you downloaded under your profile from kaggle\n",
        "from google.colab import files\n",
        "files.upload()"
      ],
      "metadata": {
        "colab": {
          "base_uri": "https://localhost:8080/",
          "height": 90
        },
        "id": "ZYvNdoRcK2et",
        "outputId": "db693428-5d88-4d53-bea9-4e3fd1ad7ef1"
      },
      "execution_count": null,
      "outputs": [
        {
          "output_type": "display_data",
          "data": {
            "text/plain": [
              "<IPython.core.display.HTML object>"
            ],
            "text/html": [
              "\n",
              "     <input type=\"file\" id=\"files-609196d5-029d-4f80-9323-6a2c67c66e6c\" name=\"files[]\" multiple disabled\n",
              "        style=\"border:none\" />\n",
              "     <output id=\"result-609196d5-029d-4f80-9323-6a2c67c66e6c\">\n",
              "      Upload widget is only available when the cell has been executed in the\n",
              "      current browser session. Please rerun this cell to enable.\n",
              "      </output>\n",
              "      <script>// Copyright 2017 Google LLC\n",
              "//\n",
              "// Licensed under the Apache License, Version 2.0 (the \"License\");\n",
              "// you may not use this file except in compliance with the License.\n",
              "// You may obtain a copy of the License at\n",
              "//\n",
              "//      http://www.apache.org/licenses/LICENSE-2.0\n",
              "//\n",
              "// Unless required by applicable law or agreed to in writing, software\n",
              "// distributed under the License is distributed on an \"AS IS\" BASIS,\n",
              "// WITHOUT WARRANTIES OR CONDITIONS OF ANY KIND, either express or implied.\n",
              "// See the License for the specific language governing permissions and\n",
              "// limitations under the License.\n",
              "\n",
              "/**\n",
              " * @fileoverview Helpers for google.colab Python module.\n",
              " */\n",
              "(function(scope) {\n",
              "function span(text, styleAttributes = {}) {\n",
              "  const element = document.createElement('span');\n",
              "  element.textContent = text;\n",
              "  for (const key of Object.keys(styleAttributes)) {\n",
              "    element.style[key] = styleAttributes[key];\n",
              "  }\n",
              "  return element;\n",
              "}\n",
              "\n",
              "// Max number of bytes which will be uploaded at a time.\n",
              "const MAX_PAYLOAD_SIZE = 100 * 1024;\n",
              "\n",
              "function _uploadFiles(inputId, outputId) {\n",
              "  const steps = uploadFilesStep(inputId, outputId);\n",
              "  const outputElement = document.getElementById(outputId);\n",
              "  // Cache steps on the outputElement to make it available for the next call\n",
              "  // to uploadFilesContinue from Python.\n",
              "  outputElement.steps = steps;\n",
              "\n",
              "  return _uploadFilesContinue(outputId);\n",
              "}\n",
              "\n",
              "// This is roughly an async generator (not supported in the browser yet),\n",
              "// where there are multiple asynchronous steps and the Python side is going\n",
              "// to poll for completion of each step.\n",
              "// This uses a Promise to block the python side on completion of each step,\n",
              "// then passes the result of the previous step as the input to the next step.\n",
              "function _uploadFilesContinue(outputId) {\n",
              "  const outputElement = document.getElementById(outputId);\n",
              "  const steps = outputElement.steps;\n",
              "\n",
              "  const next = steps.next(outputElement.lastPromiseValue);\n",
              "  return Promise.resolve(next.value.promise).then((value) => {\n",
              "    // Cache the last promise value to make it available to the next\n",
              "    // step of the generator.\n",
              "    outputElement.lastPromiseValue = value;\n",
              "    return next.value.response;\n",
              "  });\n",
              "}\n",
              "\n",
              "/**\n",
              " * Generator function which is called between each async step of the upload\n",
              " * process.\n",
              " * @param {string} inputId Element ID of the input file picker element.\n",
              " * @param {string} outputId Element ID of the output display.\n",
              " * @return {!Iterable<!Object>} Iterable of next steps.\n",
              " */\n",
              "function* uploadFilesStep(inputId, outputId) {\n",
              "  const inputElement = document.getElementById(inputId);\n",
              "  inputElement.disabled = false;\n",
              "\n",
              "  const outputElement = document.getElementById(outputId);\n",
              "  outputElement.innerHTML = '';\n",
              "\n",
              "  const pickedPromise = new Promise((resolve) => {\n",
              "    inputElement.addEventListener('change', (e) => {\n",
              "      resolve(e.target.files);\n",
              "    });\n",
              "  });\n",
              "\n",
              "  const cancel = document.createElement('button');\n",
              "  inputElement.parentElement.appendChild(cancel);\n",
              "  cancel.textContent = 'Cancel upload';\n",
              "  const cancelPromise = new Promise((resolve) => {\n",
              "    cancel.onclick = () => {\n",
              "      resolve(null);\n",
              "    };\n",
              "  });\n",
              "\n",
              "  // Wait for the user to pick the files.\n",
              "  const files = yield {\n",
              "    promise: Promise.race([pickedPromise, cancelPromise]),\n",
              "    response: {\n",
              "      action: 'starting',\n",
              "    }\n",
              "  };\n",
              "\n",
              "  cancel.remove();\n",
              "\n",
              "  // Disable the input element since further picks are not allowed.\n",
              "  inputElement.disabled = true;\n",
              "\n",
              "  if (!files) {\n",
              "    return {\n",
              "      response: {\n",
              "        action: 'complete',\n",
              "      }\n",
              "    };\n",
              "  }\n",
              "\n",
              "  for (const file of files) {\n",
              "    const li = document.createElement('li');\n",
              "    li.append(span(file.name, {fontWeight: 'bold'}));\n",
              "    li.append(span(\n",
              "        `(${file.type || 'n/a'}) - ${file.size} bytes, ` +\n",
              "        `last modified: ${\n",
              "            file.lastModifiedDate ? file.lastModifiedDate.toLocaleDateString() :\n",
              "                                    'n/a'} - `));\n",
              "    const percent = span('0% done');\n",
              "    li.appendChild(percent);\n",
              "\n",
              "    outputElement.appendChild(li);\n",
              "\n",
              "    const fileDataPromise = new Promise((resolve) => {\n",
              "      const reader = new FileReader();\n",
              "      reader.onload = (e) => {\n",
              "        resolve(e.target.result);\n",
              "      };\n",
              "      reader.readAsArrayBuffer(file);\n",
              "    });\n",
              "    // Wait for the data to be ready.\n",
              "    let fileData = yield {\n",
              "      promise: fileDataPromise,\n",
              "      response: {\n",
              "        action: 'continue',\n",
              "      }\n",
              "    };\n",
              "\n",
              "    // Use a chunked sending to avoid message size limits. See b/62115660.\n",
              "    let position = 0;\n",
              "    do {\n",
              "      const length = Math.min(fileData.byteLength - position, MAX_PAYLOAD_SIZE);\n",
              "      const chunk = new Uint8Array(fileData, position, length);\n",
              "      position += length;\n",
              "\n",
              "      const base64 = btoa(String.fromCharCode.apply(null, chunk));\n",
              "      yield {\n",
              "        response: {\n",
              "          action: 'append',\n",
              "          file: file.name,\n",
              "          data: base64,\n",
              "        },\n",
              "      };\n",
              "\n",
              "      let percentDone = fileData.byteLength === 0 ?\n",
              "          100 :\n",
              "          Math.round((position / fileData.byteLength) * 100);\n",
              "      percent.textContent = `${percentDone}% done`;\n",
              "\n",
              "    } while (position < fileData.byteLength);\n",
              "  }\n",
              "\n",
              "  // All done.\n",
              "  yield {\n",
              "    response: {\n",
              "      action: 'complete',\n",
              "    }\n",
              "  };\n",
              "}\n",
              "\n",
              "scope.google = scope.google || {};\n",
              "scope.google.colab = scope.google.colab || {};\n",
              "scope.google.colab._files = {\n",
              "  _uploadFiles,\n",
              "  _uploadFilesContinue,\n",
              "};\n",
              "})(self);\n",
              "</script> "
            ]
          },
          "metadata": {}
        },
        {
          "output_type": "stream",
          "name": "stdout",
          "text": [
            "Saving kaggle.json to kaggle.json\n"
          ]
        },
        {
          "output_type": "execute_result",
          "data": {
            "text/plain": [
              "{'kaggle.json': b'{\"username\":\"fahadrafiq8200\",\"key\":\"477aa2ba744f618a2488e20d9d392d54\"}'}"
            ]
          },
          "metadata": {},
          "execution_count": 2
        }
      ]
    },
    {
      "cell_type": "code",
      "source": [
        "!mkdir ~/.kaggle # Run if can't find this folder"
      ],
      "metadata": {
        "id": "7BkANePFLEQa"
      },
      "execution_count": null,
      "outputs": []
    },
    {
      "cell_type": "code",
      "source": [
        "# Copy kaggle.json file there.\n",
        "!cp kaggle.json ~/.kaggle/"
      ],
      "metadata": {
        "id": "ZIOt6GNILWHY"
      },
      "execution_count": null,
      "outputs": []
    },
    {
      "cell_type": "code",
      "source": [
        "# Change the permissions of the file to get read and write access\n",
        "!chmod 600 ~/.kaggle/kaggle.json"
      ],
      "metadata": {
        "id": "Ps48uaqGLdqn"
      },
      "execution_count": null,
      "outputs": []
    },
    {
      "cell_type": "code",
      "source": [
        "# That's all ! You can check if everything's okay by running this command\n",
        "!kaggle datasets list"
      ],
      "metadata": {
        "colab": {
          "base_uri": "https://localhost:8080/"
        },
        "id": "qJVwLooxLicz",
        "outputId": "f43a9636-80b1-4d23-f532-0e93d009dfb5"
      },
      "execution_count": null,
      "outputs": [
        {
          "output_type": "stream",
          "name": "stdout",
          "text": [
            "ref                                                       title                                              size  lastUpdated          downloadCount  voteCount  usabilityRating  \n",
            "--------------------------------------------------------  ------------------------------------------------  -----  -------------------  -------------  ---------  ---------------  \n",
            "arnabchaki/data-science-salaries-2023                     Data Science Salaries 2023 💸                       25KB  2023-04-13 09:55:16          16738        455  1.0              \n",
            "chitrakumari25/corona-virus-latest-data-2023              Corona virus latest data 2023                      10KB  2023-04-29 16:00:51           1748         44  1.0              \n",
            "utkarshx27/starbucks-nutrition                            Starbucks Nutrition Facts                           2KB  2023-05-10 05:42:59           1176         38  1.0              \n",
            "utkarshx27/monthly-transportation-statistics              Monthly Transportation Statistics                 131KB  2023-05-02 02:43:50           1295         35  1.0              \n",
            "iammustafatz/diabetes-prediction-dataset                  Diabetes prediction dataset                       734KB  2023-04-08 06:11:45           8517        120  1.0              \n",
            "desalegngeb/students-exam-scores                          Students Exam Scores: Extended Dataset            695KB  2023-04-14 00:15:38           6731        138  1.0              \n",
            "mykhailozub/500-hotels-from-airbnb-booking-and-hotelscom  7500 hotels from Airbnb, Booking and Hotels.com   428KB  2023-05-04 15:37:17            699         23  1.0              \n",
            "asahu40/walmart-data-analysis-and-forcasting              Walmart Data Analysis and Forcasting              122KB  2023-04-26 07:07:03           2436         60  1.0              \n",
            "utkarshx27/real-estate-sales-2001-2020-gl                 Real Estate Sales 2001-2020 GL                     33MB  2023-05-05 04:22:05            941         29  1.0              \n",
            "sougatapramanick/happiness-index-2018-2019                Happiness Index 2018-2019                          15KB  2023-04-14 12:01:03           3127         56  1.0              \n",
            "utkarshx27/smoking-dataset-from-uk                        Smoking Dataset from UK                            17KB  2023-05-10 05:41:12           1379         38  1.0              \n",
            "olcaybolat1/dermatology-dataset-classification            Dermatology Dataset (Multi-class classification)    5KB  2023-05-09 11:21:39            493         28  1.0              \n",
            "utkarshx27/suicide-attempts-in-shandong-china             Suicide Attempts in Shandong, China                29KB  2023-05-06 11:54:22            988         33  1.0              \n",
            "r1shabhgupta/best-movies-on-netflix                       Top 100 Movies on Netflix                          32KB  2023-04-13 15:34:38           2045         51  1.0              \n",
            "utkarshx27/breast-cancer-dataset-used-royston-and-altman  Breast Cancer Dataset                              10KB  2023-05-09 10:42:51            564         27  1.0              \n",
            "salvatorerastelli/spotify-and-youtube                     Spotify and Youtube                                 9MB  2023-03-20 15:43:25          15146        466  1.0              \n",
            "mohamedafsal007/house-price-dataset-of-india              House Price dataset of India                      480KB  2023-03-27 06:22:55          11624        109  0.88235295       \n",
            "ahmedshahriarsakib/usa-real-estate-dataset                USA Real Estate Dataset                             2MB  2023-05-18 03:36:35           2142         54  1.0              \n",
            "utkarshx27/arrests-for-marijuana-possession               Arrests for Marijuana Possession                   32KB  2023-05-08 10:17:21           1074         38  1.0              \n",
            "muhammadjawwadismail/hr-competency-scores-for-screening   HR Competency Scores for Screening                 13KB  2023-05-10 21:38:25            353         30  0.9411765        \n"
          ]
        }
      ]
    },
    {
      "cell_type": "markdown",
      "source": [
        "## 2. Downloading and unzipping dataset"
      ],
      "metadata": {
        "id": "pn66-pjdL_pE"
      }
    },
    {
      "cell_type": "code",
      "source": [
        "# Download the dataset\n",
        "!kaggle datasets download -d ramjasmaurya/medias-cost-prediction-in-foodmart"
      ],
      "metadata": {
        "colab": {
          "base_uri": "https://localhost:8080/"
        },
        "id": "-RLtUsDqLuWR",
        "outputId": "b0da71ff-0f33-4747-9f4c-b523aa266146"
      },
      "execution_count": null,
      "outputs": [
        {
          "output_type": "stream",
          "name": "stdout",
          "text": [
            "Downloading medias-cost-prediction-in-foodmart.zip to /content\n",
            "\r  0% 0.00/1.53M [00:00<?, ?B/s]\n",
            "\r100% 1.53M/1.53M [00:00<00:00, 147MB/s]\n"
          ]
        }
      ]
    },
    {
      "cell_type": "code",
      "source": [
        "# Unzip the dataset\n",
        "!unzip /content/medias-cost-prediction-in-foodmart.zip"
      ],
      "metadata": {
        "colab": {
          "base_uri": "https://localhost:8080/"
        },
        "id": "6WG7U4S0L8Qd",
        "outputId": "9e0ed9a6-1277-45ec-a632-edcbce74adf9"
      },
      "execution_count": null,
      "outputs": [
        {
          "output_type": "stream",
          "name": "stdout",
          "text": [
            "Archive:  /content/medias-cost-prediction-in-foodmart.zip\n",
            "  inflating: media prediction and its cost.csv  \n"
          ]
        }
      ]
    },
    {
      "cell_type": "markdown",
      "source": [
        "## 3. Exploring the dataset"
      ],
      "metadata": {
        "id": "JgjXMEeMMQrK"
      }
    },
    {
      "cell_type": "code",
      "source": [
        "# Import the libaries\n",
        "import pandas as pd\n",
        "import numpy as np\n",
        "import sklearn as skl\n",
        "import matplotlib.pyplot as plt\n",
        "import seaborn as sns"
      ],
      "metadata": {
        "id": "bQ7pfl1sML3K"
      },
      "execution_count": null,
      "outputs": []
    },
    {
      "cell_type": "code",
      "source": [
        "# Read the dataset and store it in Dataframe\n",
        "df = pd.read_csv(\"/content/media prediction and its cost.csv\")\n",
        "# show the head of the dataframe\n",
        "df.head(-5)"
      ],
      "metadata": {
        "colab": {
          "base_uri": "https://localhost:8080/",
          "height": 713
        },
        "id": "lCZy9-1LM01j",
        "outputId": "a990d9ed-13dd-4b07-9ff2-852950af1bdb"
      },
      "execution_count": null,
      "outputs": [
        {
          "output_type": "execute_result",
          "data": {
            "text/plain": [
              "         food_category food_department     food_family  \\\n",
              "0      Breakfast Foods    Frozen Foods            Food   \n",
              "1      Breakfast Foods    Frozen Foods            Food   \n",
              "2      Breakfast Foods    Frozen Foods            Food   \n",
              "3      Breakfast Foods    Frozen Foods            Food   \n",
              "4      Breakfast Foods    Frozen Foods            Food   \n",
              "...                ...             ...             ...   \n",
              "60418        Specialty        Carousel  Non-Consumable   \n",
              "60419        Specialty        Carousel  Non-Consumable   \n",
              "60420        Specialty        Carousel  Non-Consumable   \n",
              "60421        Specialty        Carousel  Non-Consumable   \n",
              "60422        Specialty        Carousel  Non-Consumable   \n",
              "\n",
              "       store_sales(in millions)  store_cost(in millions)  \\\n",
              "0                          7.36                   2.7232   \n",
              "1                          5.52                   2.5944   \n",
              "2                          3.68                   1.3616   \n",
              "3                          3.68                   1.1776   \n",
              "4                          4.08                   1.4280   \n",
              "...                         ...                      ...   \n",
              "60418                      8.28                   2.7324   \n",
              "60419                      6.90                   2.8290   \n",
              "60420                      4.84                   1.6940   \n",
              "60421                      0.99                   0.4554   \n",
              "60422                      1.21                   0.4477   \n",
              "\n",
              "       unit_sales(in millions)           promotion_name sales_country  \\\n",
              "0                          4.0             Bag Stuffers           USA   \n",
              "1                          3.0    Cash Register Lottery           USA   \n",
              "2                          2.0      High Roller Savings           USA   \n",
              "3                          2.0    Cash Register Lottery           USA   \n",
              "4                          3.0         Double Down Sale           USA   \n",
              "...                        ...                      ...           ...   \n",
              "60418                      3.0             Save-It Sale        Mexico   \n",
              "60419                      3.0             Two Day Sale        Mexico   \n",
              "60420                      4.0            Price Winners        Mexico   \n",
              "60421                      1.0      Green Light Special           USA   \n",
              "60422                      1.0  Unbeatable Price Savers           USA   \n",
              "\n",
              "      marital_status gender  ...  grocery_sqft frozen_sqft meat_sqft  \\\n",
              "0                  M      F  ...       18670.0      5415.0    3610.0   \n",
              "1                  M      M  ...       18670.0      5415.0    3610.0   \n",
              "2                  S      F  ...       18670.0      5415.0    3610.0   \n",
              "3                  M      F  ...       18670.0      5415.0    3610.0   \n",
              "4                  M      M  ...       18670.0      5415.0    3610.0   \n",
              "...              ...    ...  ...           ...         ...       ...   \n",
              "60418              M      M  ...       17475.0      3671.0    2447.0   \n",
              "60419              S      M  ...       17475.0      3671.0    2447.0   \n",
              "60420              S      F  ...       17475.0      3671.0    2447.0   \n",
              "60421              S      F  ...       15321.0      4294.0    2863.0   \n",
              "60422              S      F  ...       15321.0      4294.0    2863.0   \n",
              "\n",
              "      coffee_bar video_store  salad_bar prepared_food  florist  \\\n",
              "0            1.0         1.0        1.0           1.0      1.0   \n",
              "1            1.0         1.0        1.0           1.0      1.0   \n",
              "2            1.0         1.0        1.0           1.0      1.0   \n",
              "3            1.0         1.0        1.0           1.0      1.0   \n",
              "4            1.0         1.0        1.0           1.0      1.0   \n",
              "...          ...         ...        ...           ...      ...   \n",
              "60418        0.0         0.0        0.0           0.0      0.0   \n",
              "60419        0.0         0.0        0.0           0.0      0.0   \n",
              "60420        0.0         0.0        0.0           0.0      0.0   \n",
              "60421        1.0         0.0        0.0           0.0      0.0   \n",
              "60422        1.0         0.0        0.0           0.0      0.0   \n",
              "\n",
              "                  media_type    cost  \n",
              "0         Daily Paper, Radio  126.62  \n",
              "1         Daily Paper, Radio   59.86  \n",
              "2         Daily Paper, Radio   84.16  \n",
              "3            In-Store Coupon   95.78  \n",
              "4                      Radio   50.79  \n",
              "...                      ...     ...  \n",
              "60418        In-Store Coupon   67.63  \n",
              "60419                  Radio   73.27  \n",
              "60420           Sunday Paper  112.19  \n",
              "60421  Cash Register Handout  127.19  \n",
              "60422    Sunday Paper, Radio   78.45  \n",
              "\n",
              "[60423 rows x 40 columns]"
            ],
            "text/html": [
              "\n",
              "  <div id=\"df-93bbc328-8641-40eb-a89b-9677823f69d0\">\n",
              "    <div class=\"colab-df-container\">\n",
              "      <div>\n",
              "<style scoped>\n",
              "    .dataframe tbody tr th:only-of-type {\n",
              "        vertical-align: middle;\n",
              "    }\n",
              "\n",
              "    .dataframe tbody tr th {\n",
              "        vertical-align: top;\n",
              "    }\n",
              "\n",
              "    .dataframe thead th {\n",
              "        text-align: right;\n",
              "    }\n",
              "</style>\n",
              "<table border=\"1\" class=\"dataframe\">\n",
              "  <thead>\n",
              "    <tr style=\"text-align: right;\">\n",
              "      <th></th>\n",
              "      <th>food_category</th>\n",
              "      <th>food_department</th>\n",
              "      <th>food_family</th>\n",
              "      <th>store_sales(in millions)</th>\n",
              "      <th>store_cost(in millions)</th>\n",
              "      <th>unit_sales(in millions)</th>\n",
              "      <th>promotion_name</th>\n",
              "      <th>sales_country</th>\n",
              "      <th>marital_status</th>\n",
              "      <th>gender</th>\n",
              "      <th>...</th>\n",
              "      <th>grocery_sqft</th>\n",
              "      <th>frozen_sqft</th>\n",
              "      <th>meat_sqft</th>\n",
              "      <th>coffee_bar</th>\n",
              "      <th>video_store</th>\n",
              "      <th>salad_bar</th>\n",
              "      <th>prepared_food</th>\n",
              "      <th>florist</th>\n",
              "      <th>media_type</th>\n",
              "      <th>cost</th>\n",
              "    </tr>\n",
              "  </thead>\n",
              "  <tbody>\n",
              "    <tr>\n",
              "      <th>0</th>\n",
              "      <td>Breakfast Foods</td>\n",
              "      <td>Frozen Foods</td>\n",
              "      <td>Food</td>\n",
              "      <td>7.36</td>\n",
              "      <td>2.7232</td>\n",
              "      <td>4.0</td>\n",
              "      <td>Bag Stuffers</td>\n",
              "      <td>USA</td>\n",
              "      <td>M</td>\n",
              "      <td>F</td>\n",
              "      <td>...</td>\n",
              "      <td>18670.0</td>\n",
              "      <td>5415.0</td>\n",
              "      <td>3610.0</td>\n",
              "      <td>1.0</td>\n",
              "      <td>1.0</td>\n",
              "      <td>1.0</td>\n",
              "      <td>1.0</td>\n",
              "      <td>1.0</td>\n",
              "      <td>Daily Paper, Radio</td>\n",
              "      <td>126.62</td>\n",
              "    </tr>\n",
              "    <tr>\n",
              "      <th>1</th>\n",
              "      <td>Breakfast Foods</td>\n",
              "      <td>Frozen Foods</td>\n",
              "      <td>Food</td>\n",
              "      <td>5.52</td>\n",
              "      <td>2.5944</td>\n",
              "      <td>3.0</td>\n",
              "      <td>Cash Register Lottery</td>\n",
              "      <td>USA</td>\n",
              "      <td>M</td>\n",
              "      <td>M</td>\n",
              "      <td>...</td>\n",
              "      <td>18670.0</td>\n",
              "      <td>5415.0</td>\n",
              "      <td>3610.0</td>\n",
              "      <td>1.0</td>\n",
              "      <td>1.0</td>\n",
              "      <td>1.0</td>\n",
              "      <td>1.0</td>\n",
              "      <td>1.0</td>\n",
              "      <td>Daily Paper, Radio</td>\n",
              "      <td>59.86</td>\n",
              "    </tr>\n",
              "    <tr>\n",
              "      <th>2</th>\n",
              "      <td>Breakfast Foods</td>\n",
              "      <td>Frozen Foods</td>\n",
              "      <td>Food</td>\n",
              "      <td>3.68</td>\n",
              "      <td>1.3616</td>\n",
              "      <td>2.0</td>\n",
              "      <td>High Roller Savings</td>\n",
              "      <td>USA</td>\n",
              "      <td>S</td>\n",
              "      <td>F</td>\n",
              "      <td>...</td>\n",
              "      <td>18670.0</td>\n",
              "      <td>5415.0</td>\n",
              "      <td>3610.0</td>\n",
              "      <td>1.0</td>\n",
              "      <td>1.0</td>\n",
              "      <td>1.0</td>\n",
              "      <td>1.0</td>\n",
              "      <td>1.0</td>\n",
              "      <td>Daily Paper, Radio</td>\n",
              "      <td>84.16</td>\n",
              "    </tr>\n",
              "    <tr>\n",
              "      <th>3</th>\n",
              "      <td>Breakfast Foods</td>\n",
              "      <td>Frozen Foods</td>\n",
              "      <td>Food</td>\n",
              "      <td>3.68</td>\n",
              "      <td>1.1776</td>\n",
              "      <td>2.0</td>\n",
              "      <td>Cash Register Lottery</td>\n",
              "      <td>USA</td>\n",
              "      <td>M</td>\n",
              "      <td>F</td>\n",
              "      <td>...</td>\n",
              "      <td>18670.0</td>\n",
              "      <td>5415.0</td>\n",
              "      <td>3610.0</td>\n",
              "      <td>1.0</td>\n",
              "      <td>1.0</td>\n",
              "      <td>1.0</td>\n",
              "      <td>1.0</td>\n",
              "      <td>1.0</td>\n",
              "      <td>In-Store Coupon</td>\n",
              "      <td>95.78</td>\n",
              "    </tr>\n",
              "    <tr>\n",
              "      <th>4</th>\n",
              "      <td>Breakfast Foods</td>\n",
              "      <td>Frozen Foods</td>\n",
              "      <td>Food</td>\n",
              "      <td>4.08</td>\n",
              "      <td>1.4280</td>\n",
              "      <td>3.0</td>\n",
              "      <td>Double Down Sale</td>\n",
              "      <td>USA</td>\n",
              "      <td>M</td>\n",
              "      <td>M</td>\n",
              "      <td>...</td>\n",
              "      <td>18670.0</td>\n",
              "      <td>5415.0</td>\n",
              "      <td>3610.0</td>\n",
              "      <td>1.0</td>\n",
              "      <td>1.0</td>\n",
              "      <td>1.0</td>\n",
              "      <td>1.0</td>\n",
              "      <td>1.0</td>\n",
              "      <td>Radio</td>\n",
              "      <td>50.79</td>\n",
              "    </tr>\n",
              "    <tr>\n",
              "      <th>...</th>\n",
              "      <td>...</td>\n",
              "      <td>...</td>\n",
              "      <td>...</td>\n",
              "      <td>...</td>\n",
              "      <td>...</td>\n",
              "      <td>...</td>\n",
              "      <td>...</td>\n",
              "      <td>...</td>\n",
              "      <td>...</td>\n",
              "      <td>...</td>\n",
              "      <td>...</td>\n",
              "      <td>...</td>\n",
              "      <td>...</td>\n",
              "      <td>...</td>\n",
              "      <td>...</td>\n",
              "      <td>...</td>\n",
              "      <td>...</td>\n",
              "      <td>...</td>\n",
              "      <td>...</td>\n",
              "      <td>...</td>\n",
              "      <td>...</td>\n",
              "    </tr>\n",
              "    <tr>\n",
              "      <th>60418</th>\n",
              "      <td>Specialty</td>\n",
              "      <td>Carousel</td>\n",
              "      <td>Non-Consumable</td>\n",
              "      <td>8.28</td>\n",
              "      <td>2.7324</td>\n",
              "      <td>3.0</td>\n",
              "      <td>Save-It Sale</td>\n",
              "      <td>Mexico</td>\n",
              "      <td>M</td>\n",
              "      <td>M</td>\n",
              "      <td>...</td>\n",
              "      <td>17475.0</td>\n",
              "      <td>3671.0</td>\n",
              "      <td>2447.0</td>\n",
              "      <td>0.0</td>\n",
              "      <td>0.0</td>\n",
              "      <td>0.0</td>\n",
              "      <td>0.0</td>\n",
              "      <td>0.0</td>\n",
              "      <td>In-Store Coupon</td>\n",
              "      <td>67.63</td>\n",
              "    </tr>\n",
              "    <tr>\n",
              "      <th>60419</th>\n",
              "      <td>Specialty</td>\n",
              "      <td>Carousel</td>\n",
              "      <td>Non-Consumable</td>\n",
              "      <td>6.90</td>\n",
              "      <td>2.8290</td>\n",
              "      <td>3.0</td>\n",
              "      <td>Two Day Sale</td>\n",
              "      <td>Mexico</td>\n",
              "      <td>S</td>\n",
              "      <td>M</td>\n",
              "      <td>...</td>\n",
              "      <td>17475.0</td>\n",
              "      <td>3671.0</td>\n",
              "      <td>2447.0</td>\n",
              "      <td>0.0</td>\n",
              "      <td>0.0</td>\n",
              "      <td>0.0</td>\n",
              "      <td>0.0</td>\n",
              "      <td>0.0</td>\n",
              "      <td>Radio</td>\n",
              "      <td>73.27</td>\n",
              "    </tr>\n",
              "    <tr>\n",
              "      <th>60420</th>\n",
              "      <td>Specialty</td>\n",
              "      <td>Carousel</td>\n",
              "      <td>Non-Consumable</td>\n",
              "      <td>4.84</td>\n",
              "      <td>1.6940</td>\n",
              "      <td>4.0</td>\n",
              "      <td>Price Winners</td>\n",
              "      <td>Mexico</td>\n",
              "      <td>S</td>\n",
              "      <td>F</td>\n",
              "      <td>...</td>\n",
              "      <td>17475.0</td>\n",
              "      <td>3671.0</td>\n",
              "      <td>2447.0</td>\n",
              "      <td>0.0</td>\n",
              "      <td>0.0</td>\n",
              "      <td>0.0</td>\n",
              "      <td>0.0</td>\n",
              "      <td>0.0</td>\n",
              "      <td>Sunday Paper</td>\n",
              "      <td>112.19</td>\n",
              "    </tr>\n",
              "    <tr>\n",
              "      <th>60421</th>\n",
              "      <td>Specialty</td>\n",
              "      <td>Carousel</td>\n",
              "      <td>Non-Consumable</td>\n",
              "      <td>0.99</td>\n",
              "      <td>0.4554</td>\n",
              "      <td>1.0</td>\n",
              "      <td>Green Light Special</td>\n",
              "      <td>USA</td>\n",
              "      <td>S</td>\n",
              "      <td>F</td>\n",
              "      <td>...</td>\n",
              "      <td>15321.0</td>\n",
              "      <td>4294.0</td>\n",
              "      <td>2863.0</td>\n",
              "      <td>1.0</td>\n",
              "      <td>0.0</td>\n",
              "      <td>0.0</td>\n",
              "      <td>0.0</td>\n",
              "      <td>0.0</td>\n",
              "      <td>Cash Register Handout</td>\n",
              "      <td>127.19</td>\n",
              "    </tr>\n",
              "    <tr>\n",
              "      <th>60422</th>\n",
              "      <td>Specialty</td>\n",
              "      <td>Carousel</td>\n",
              "      <td>Non-Consumable</td>\n",
              "      <td>1.21</td>\n",
              "      <td>0.4477</td>\n",
              "      <td>1.0</td>\n",
              "      <td>Unbeatable Price Savers</td>\n",
              "      <td>USA</td>\n",
              "      <td>S</td>\n",
              "      <td>F</td>\n",
              "      <td>...</td>\n",
              "      <td>15321.0</td>\n",
              "      <td>4294.0</td>\n",
              "      <td>2863.0</td>\n",
              "      <td>1.0</td>\n",
              "      <td>0.0</td>\n",
              "      <td>0.0</td>\n",
              "      <td>0.0</td>\n",
              "      <td>0.0</td>\n",
              "      <td>Sunday Paper, Radio</td>\n",
              "      <td>78.45</td>\n",
              "    </tr>\n",
              "  </tbody>\n",
              "</table>\n",
              "<p>60423 rows × 40 columns</p>\n",
              "</div>\n",
              "      <button class=\"colab-df-convert\" onclick=\"convertToInteractive('df-93bbc328-8641-40eb-a89b-9677823f69d0')\"\n",
              "              title=\"Convert this dataframe to an interactive table.\"\n",
              "              style=\"display:none;\">\n",
              "        \n",
              "  <svg xmlns=\"http://www.w3.org/2000/svg\" height=\"24px\"viewBox=\"0 0 24 24\"\n",
              "       width=\"24px\">\n",
              "    <path d=\"M0 0h24v24H0V0z\" fill=\"none\"/>\n",
              "    <path d=\"M18.56 5.44l.94 2.06.94-2.06 2.06-.94-2.06-.94-.94-2.06-.94 2.06-2.06.94zm-11 1L8.5 8.5l.94-2.06 2.06-.94-2.06-.94L8.5 2.5l-.94 2.06-2.06.94zm10 10l.94 2.06.94-2.06 2.06-.94-2.06-.94-.94-2.06-.94 2.06-2.06.94z\"/><path d=\"M17.41 7.96l-1.37-1.37c-.4-.4-.92-.59-1.43-.59-.52 0-1.04.2-1.43.59L10.3 9.45l-7.72 7.72c-.78.78-.78 2.05 0 2.83L4 21.41c.39.39.9.59 1.41.59.51 0 1.02-.2 1.41-.59l7.78-7.78 2.81-2.81c.8-.78.8-2.07 0-2.86zM5.41 20L4 18.59l7.72-7.72 1.47 1.35L5.41 20z\"/>\n",
              "  </svg>\n",
              "      </button>\n",
              "      \n",
              "  <style>\n",
              "    .colab-df-container {\n",
              "      display:flex;\n",
              "      flex-wrap:wrap;\n",
              "      gap: 12px;\n",
              "    }\n",
              "\n",
              "    .colab-df-convert {\n",
              "      background-color: #E8F0FE;\n",
              "      border: none;\n",
              "      border-radius: 50%;\n",
              "      cursor: pointer;\n",
              "      display: none;\n",
              "      fill: #1967D2;\n",
              "      height: 32px;\n",
              "      padding: 0 0 0 0;\n",
              "      width: 32px;\n",
              "    }\n",
              "\n",
              "    .colab-df-convert:hover {\n",
              "      background-color: #E2EBFA;\n",
              "      box-shadow: 0px 1px 2px rgba(60, 64, 67, 0.3), 0px 1px 3px 1px rgba(60, 64, 67, 0.15);\n",
              "      fill: #174EA6;\n",
              "    }\n",
              "\n",
              "    [theme=dark] .colab-df-convert {\n",
              "      background-color: #3B4455;\n",
              "      fill: #D2E3FC;\n",
              "    }\n",
              "\n",
              "    [theme=dark] .colab-df-convert:hover {\n",
              "      background-color: #434B5C;\n",
              "      box-shadow: 0px 1px 3px 1px rgba(0, 0, 0, 0.15);\n",
              "      filter: drop-shadow(0px 1px 2px rgba(0, 0, 0, 0.3));\n",
              "      fill: #FFFFFF;\n",
              "    }\n",
              "  </style>\n",
              "\n",
              "      <script>\n",
              "        const buttonEl =\n",
              "          document.querySelector('#df-93bbc328-8641-40eb-a89b-9677823f69d0 button.colab-df-convert');\n",
              "        buttonEl.style.display =\n",
              "          google.colab.kernel.accessAllowed ? 'block' : 'none';\n",
              "\n",
              "        async function convertToInteractive(key) {\n",
              "          const element = document.querySelector('#df-93bbc328-8641-40eb-a89b-9677823f69d0');\n",
              "          const dataTable =\n",
              "            await google.colab.kernel.invokeFunction('convertToInteractive',\n",
              "                                                     [key], {});\n",
              "          if (!dataTable) return;\n",
              "\n",
              "          const docLinkHtml = 'Like what you see? Visit the ' +\n",
              "            '<a target=\"_blank\" href=https://colab.research.google.com/notebooks/data_table.ipynb>data table notebook</a>'\n",
              "            + ' to learn more about interactive tables.';\n",
              "          element.innerHTML = '';\n",
              "          dataTable['output_type'] = 'display_data';\n",
              "          await google.colab.output.renderOutput(dataTable, element);\n",
              "          const docLink = document.createElement('div');\n",
              "          docLink.innerHTML = docLinkHtml;\n",
              "          element.appendChild(docLink);\n",
              "        }\n",
              "      </script>\n",
              "    </div>\n",
              "  </div>\n",
              "  "
            ]
          },
          "metadata": {},
          "execution_count": 10
        }
      ]
    },
    {
      "cell_type": "code",
      "source": [
        "df.describe()"
      ],
      "metadata": {
        "colab": {
          "base_uri": "https://localhost:8080/",
          "height": 410
        },
        "id": "VY-CArTeQSlA",
        "outputId": "e5018a1f-69e3-4727-d56b-9246d4318931"
      },
      "execution_count": null,
      "outputs": [
        {
          "output_type": "execute_result",
          "data": {
            "text/plain": [
              "       store_sales(in millions)  store_cost(in millions)  \\\n",
              "count              60428.000000             60428.000000   \n",
              "mean                   6.541031                 2.619460   \n",
              "std                    3.463047                 1.453009   \n",
              "min                    0.510000                 0.163200   \n",
              "25%                    3.810000                 1.500000   \n",
              "50%                    5.940000                 2.385600   \n",
              "75%                    8.670000                 3.484025   \n",
              "max                   22.920000                 9.726500   \n",
              "\n",
              "       unit_sales(in millions)  total_children  avg_cars_at home(approx)  \\\n",
              "count             60428.000000    60428.000000              60428.000000   \n",
              "mean                  3.093169        2.533875                  2.200271   \n",
              "std                   0.827677        1.490165                  1.109644   \n",
              "min                   1.000000        0.000000                  0.000000   \n",
              "25%                   3.000000        1.000000                  1.000000   \n",
              "50%                   3.000000        3.000000                  2.000000   \n",
              "75%                   4.000000        4.000000                  3.000000   \n",
              "max                   6.000000        5.000000                  4.000000   \n",
              "\n",
              "       num_children_at_home  avg_cars_at home(approx).1           SRP  \\\n",
              "count          60428.000000                60428.000000  60428.000000   \n",
              "mean               0.829351                    2.200271      2.115258   \n",
              "std                1.303424                    1.109644      0.932829   \n",
              "min                0.000000                    0.000000      0.500000   \n",
              "25%                0.000000                    1.000000      1.410000   \n",
              "50%                0.000000                    2.000000      2.130000   \n",
              "75%                1.000000                    3.000000      2.790000   \n",
              "max                5.000000                    4.000000      3.980000   \n",
              "\n",
              "       gross_weight    net_weight  ...    store_sqft  grocery_sqft  \\\n",
              "count  60428.000000  60428.000000  ...  60428.000000  60428.000000   \n",
              "mean      13.806433     11.796289  ...  27988.477494  19133.799696   \n",
              "std        4.622693      4.682986  ...   5701.022090   3987.395735   \n",
              "min        6.000000      3.050000  ...  20319.000000  13305.000000   \n",
              "25%        9.700000      7.710000  ...  23593.000000  16232.000000   \n",
              "50%       13.600000     11.600000  ...  27694.000000  18670.000000   \n",
              "75%       17.700000     16.000000  ...  30797.000000  22123.000000   \n",
              "max       21.900000     20.800000  ...  39696.000000  30351.000000   \n",
              "\n",
              "        frozen_sqft     meat_sqft    coffee_bar   video_store     salad_bar  \\\n",
              "count  60428.000000  60428.000000  60428.000000  60428.000000  60428.000000   \n",
              "mean    5312.852552   3541.846280      0.612646      0.354157      0.587956   \n",
              "std     1575.907263   1050.471635      0.487150      0.478261      0.492207   \n",
              "min     2452.000000   1635.000000      0.000000      0.000000      0.000000   \n",
              "25%     4746.000000   3164.000000      0.000000      0.000000      0.000000   \n",
              "50%     5062.000000   3375.000000      1.000000      0.000000      1.000000   \n",
              "75%     5751.000000   3834.000000      1.000000      1.000000      1.000000   \n",
              "max     9184.000000   6122.000000      1.000000      1.000000      1.000000   \n",
              "\n",
              "       prepared_food       florist          cost  \n",
              "count   60428.000000  60428.000000  60428.000000  \n",
              "mean        0.587956      0.562603     99.262366  \n",
              "std         0.492207      0.496069     30.011257  \n",
              "min         0.000000      0.000000     50.790000  \n",
              "25%         0.000000      0.000000     69.650000  \n",
              "50%         1.000000      1.000000     98.520000  \n",
              "75%         1.000000      1.000000    126.620000  \n",
              "max         1.000000      1.000000    149.750000  \n",
              "\n",
              "[8 rows x 23 columns]"
            ],
            "text/html": [
              "\n",
              "  <div id=\"df-c25224b8-9290-4870-a940-49b8486e7dd2\">\n",
              "    <div class=\"colab-df-container\">\n",
              "      <div>\n",
              "<style scoped>\n",
              "    .dataframe tbody tr th:only-of-type {\n",
              "        vertical-align: middle;\n",
              "    }\n",
              "\n",
              "    .dataframe tbody tr th {\n",
              "        vertical-align: top;\n",
              "    }\n",
              "\n",
              "    .dataframe thead th {\n",
              "        text-align: right;\n",
              "    }\n",
              "</style>\n",
              "<table border=\"1\" class=\"dataframe\">\n",
              "  <thead>\n",
              "    <tr style=\"text-align: right;\">\n",
              "      <th></th>\n",
              "      <th>store_sales(in millions)</th>\n",
              "      <th>store_cost(in millions)</th>\n",
              "      <th>unit_sales(in millions)</th>\n",
              "      <th>total_children</th>\n",
              "      <th>avg_cars_at home(approx)</th>\n",
              "      <th>num_children_at_home</th>\n",
              "      <th>avg_cars_at home(approx).1</th>\n",
              "      <th>SRP</th>\n",
              "      <th>gross_weight</th>\n",
              "      <th>net_weight</th>\n",
              "      <th>...</th>\n",
              "      <th>store_sqft</th>\n",
              "      <th>grocery_sqft</th>\n",
              "      <th>frozen_sqft</th>\n",
              "      <th>meat_sqft</th>\n",
              "      <th>coffee_bar</th>\n",
              "      <th>video_store</th>\n",
              "      <th>salad_bar</th>\n",
              "      <th>prepared_food</th>\n",
              "      <th>florist</th>\n",
              "      <th>cost</th>\n",
              "    </tr>\n",
              "  </thead>\n",
              "  <tbody>\n",
              "    <tr>\n",
              "      <th>count</th>\n",
              "      <td>60428.000000</td>\n",
              "      <td>60428.000000</td>\n",
              "      <td>60428.000000</td>\n",
              "      <td>60428.000000</td>\n",
              "      <td>60428.000000</td>\n",
              "      <td>60428.000000</td>\n",
              "      <td>60428.000000</td>\n",
              "      <td>60428.000000</td>\n",
              "      <td>60428.000000</td>\n",
              "      <td>60428.000000</td>\n",
              "      <td>...</td>\n",
              "      <td>60428.000000</td>\n",
              "      <td>60428.000000</td>\n",
              "      <td>60428.000000</td>\n",
              "      <td>60428.000000</td>\n",
              "      <td>60428.000000</td>\n",
              "      <td>60428.000000</td>\n",
              "      <td>60428.000000</td>\n",
              "      <td>60428.000000</td>\n",
              "      <td>60428.000000</td>\n",
              "      <td>60428.000000</td>\n",
              "    </tr>\n",
              "    <tr>\n",
              "      <th>mean</th>\n",
              "      <td>6.541031</td>\n",
              "      <td>2.619460</td>\n",
              "      <td>3.093169</td>\n",
              "      <td>2.533875</td>\n",
              "      <td>2.200271</td>\n",
              "      <td>0.829351</td>\n",
              "      <td>2.200271</td>\n",
              "      <td>2.115258</td>\n",
              "      <td>13.806433</td>\n",
              "      <td>11.796289</td>\n",
              "      <td>...</td>\n",
              "      <td>27988.477494</td>\n",
              "      <td>19133.799696</td>\n",
              "      <td>5312.852552</td>\n",
              "      <td>3541.846280</td>\n",
              "      <td>0.612646</td>\n",
              "      <td>0.354157</td>\n",
              "      <td>0.587956</td>\n",
              "      <td>0.587956</td>\n",
              "      <td>0.562603</td>\n",
              "      <td>99.262366</td>\n",
              "    </tr>\n",
              "    <tr>\n",
              "      <th>std</th>\n",
              "      <td>3.463047</td>\n",
              "      <td>1.453009</td>\n",
              "      <td>0.827677</td>\n",
              "      <td>1.490165</td>\n",
              "      <td>1.109644</td>\n",
              "      <td>1.303424</td>\n",
              "      <td>1.109644</td>\n",
              "      <td>0.932829</td>\n",
              "      <td>4.622693</td>\n",
              "      <td>4.682986</td>\n",
              "      <td>...</td>\n",
              "      <td>5701.022090</td>\n",
              "      <td>3987.395735</td>\n",
              "      <td>1575.907263</td>\n",
              "      <td>1050.471635</td>\n",
              "      <td>0.487150</td>\n",
              "      <td>0.478261</td>\n",
              "      <td>0.492207</td>\n",
              "      <td>0.492207</td>\n",
              "      <td>0.496069</td>\n",
              "      <td>30.011257</td>\n",
              "    </tr>\n",
              "    <tr>\n",
              "      <th>min</th>\n",
              "      <td>0.510000</td>\n",
              "      <td>0.163200</td>\n",
              "      <td>1.000000</td>\n",
              "      <td>0.000000</td>\n",
              "      <td>0.000000</td>\n",
              "      <td>0.000000</td>\n",
              "      <td>0.000000</td>\n",
              "      <td>0.500000</td>\n",
              "      <td>6.000000</td>\n",
              "      <td>3.050000</td>\n",
              "      <td>...</td>\n",
              "      <td>20319.000000</td>\n",
              "      <td>13305.000000</td>\n",
              "      <td>2452.000000</td>\n",
              "      <td>1635.000000</td>\n",
              "      <td>0.000000</td>\n",
              "      <td>0.000000</td>\n",
              "      <td>0.000000</td>\n",
              "      <td>0.000000</td>\n",
              "      <td>0.000000</td>\n",
              "      <td>50.790000</td>\n",
              "    </tr>\n",
              "    <tr>\n",
              "      <th>25%</th>\n",
              "      <td>3.810000</td>\n",
              "      <td>1.500000</td>\n",
              "      <td>3.000000</td>\n",
              "      <td>1.000000</td>\n",
              "      <td>1.000000</td>\n",
              "      <td>0.000000</td>\n",
              "      <td>1.000000</td>\n",
              "      <td>1.410000</td>\n",
              "      <td>9.700000</td>\n",
              "      <td>7.710000</td>\n",
              "      <td>...</td>\n",
              "      <td>23593.000000</td>\n",
              "      <td>16232.000000</td>\n",
              "      <td>4746.000000</td>\n",
              "      <td>3164.000000</td>\n",
              "      <td>0.000000</td>\n",
              "      <td>0.000000</td>\n",
              "      <td>0.000000</td>\n",
              "      <td>0.000000</td>\n",
              "      <td>0.000000</td>\n",
              "      <td>69.650000</td>\n",
              "    </tr>\n",
              "    <tr>\n",
              "      <th>50%</th>\n",
              "      <td>5.940000</td>\n",
              "      <td>2.385600</td>\n",
              "      <td>3.000000</td>\n",
              "      <td>3.000000</td>\n",
              "      <td>2.000000</td>\n",
              "      <td>0.000000</td>\n",
              "      <td>2.000000</td>\n",
              "      <td>2.130000</td>\n",
              "      <td>13.600000</td>\n",
              "      <td>11.600000</td>\n",
              "      <td>...</td>\n",
              "      <td>27694.000000</td>\n",
              "      <td>18670.000000</td>\n",
              "      <td>5062.000000</td>\n",
              "      <td>3375.000000</td>\n",
              "      <td>1.000000</td>\n",
              "      <td>0.000000</td>\n",
              "      <td>1.000000</td>\n",
              "      <td>1.000000</td>\n",
              "      <td>1.000000</td>\n",
              "      <td>98.520000</td>\n",
              "    </tr>\n",
              "    <tr>\n",
              "      <th>75%</th>\n",
              "      <td>8.670000</td>\n",
              "      <td>3.484025</td>\n",
              "      <td>4.000000</td>\n",
              "      <td>4.000000</td>\n",
              "      <td>3.000000</td>\n",
              "      <td>1.000000</td>\n",
              "      <td>3.000000</td>\n",
              "      <td>2.790000</td>\n",
              "      <td>17.700000</td>\n",
              "      <td>16.000000</td>\n",
              "      <td>...</td>\n",
              "      <td>30797.000000</td>\n",
              "      <td>22123.000000</td>\n",
              "      <td>5751.000000</td>\n",
              "      <td>3834.000000</td>\n",
              "      <td>1.000000</td>\n",
              "      <td>1.000000</td>\n",
              "      <td>1.000000</td>\n",
              "      <td>1.000000</td>\n",
              "      <td>1.000000</td>\n",
              "      <td>126.620000</td>\n",
              "    </tr>\n",
              "    <tr>\n",
              "      <th>max</th>\n",
              "      <td>22.920000</td>\n",
              "      <td>9.726500</td>\n",
              "      <td>6.000000</td>\n",
              "      <td>5.000000</td>\n",
              "      <td>4.000000</td>\n",
              "      <td>5.000000</td>\n",
              "      <td>4.000000</td>\n",
              "      <td>3.980000</td>\n",
              "      <td>21.900000</td>\n",
              "      <td>20.800000</td>\n",
              "      <td>...</td>\n",
              "      <td>39696.000000</td>\n",
              "      <td>30351.000000</td>\n",
              "      <td>9184.000000</td>\n",
              "      <td>6122.000000</td>\n",
              "      <td>1.000000</td>\n",
              "      <td>1.000000</td>\n",
              "      <td>1.000000</td>\n",
              "      <td>1.000000</td>\n",
              "      <td>1.000000</td>\n",
              "      <td>149.750000</td>\n",
              "    </tr>\n",
              "  </tbody>\n",
              "</table>\n",
              "<p>8 rows × 23 columns</p>\n",
              "</div>\n",
              "      <button class=\"colab-df-convert\" onclick=\"convertToInteractive('df-c25224b8-9290-4870-a940-49b8486e7dd2')\"\n",
              "              title=\"Convert this dataframe to an interactive table.\"\n",
              "              style=\"display:none;\">\n",
              "        \n",
              "  <svg xmlns=\"http://www.w3.org/2000/svg\" height=\"24px\"viewBox=\"0 0 24 24\"\n",
              "       width=\"24px\">\n",
              "    <path d=\"M0 0h24v24H0V0z\" fill=\"none\"/>\n",
              "    <path d=\"M18.56 5.44l.94 2.06.94-2.06 2.06-.94-2.06-.94-.94-2.06-.94 2.06-2.06.94zm-11 1L8.5 8.5l.94-2.06 2.06-.94-2.06-.94L8.5 2.5l-.94 2.06-2.06.94zm10 10l.94 2.06.94-2.06 2.06-.94-2.06-.94-.94-2.06-.94 2.06-2.06.94z\"/><path d=\"M17.41 7.96l-1.37-1.37c-.4-.4-.92-.59-1.43-.59-.52 0-1.04.2-1.43.59L10.3 9.45l-7.72 7.72c-.78.78-.78 2.05 0 2.83L4 21.41c.39.39.9.59 1.41.59.51 0 1.02-.2 1.41-.59l7.78-7.78 2.81-2.81c.8-.78.8-2.07 0-2.86zM5.41 20L4 18.59l7.72-7.72 1.47 1.35L5.41 20z\"/>\n",
              "  </svg>\n",
              "      </button>\n",
              "      \n",
              "  <style>\n",
              "    .colab-df-container {\n",
              "      display:flex;\n",
              "      flex-wrap:wrap;\n",
              "      gap: 12px;\n",
              "    }\n",
              "\n",
              "    .colab-df-convert {\n",
              "      background-color: #E8F0FE;\n",
              "      border: none;\n",
              "      border-radius: 50%;\n",
              "      cursor: pointer;\n",
              "      display: none;\n",
              "      fill: #1967D2;\n",
              "      height: 32px;\n",
              "      padding: 0 0 0 0;\n",
              "      width: 32px;\n",
              "    }\n",
              "\n",
              "    .colab-df-convert:hover {\n",
              "      background-color: #E2EBFA;\n",
              "      box-shadow: 0px 1px 2px rgba(60, 64, 67, 0.3), 0px 1px 3px 1px rgba(60, 64, 67, 0.15);\n",
              "      fill: #174EA6;\n",
              "    }\n",
              "\n",
              "    [theme=dark] .colab-df-convert {\n",
              "      background-color: #3B4455;\n",
              "      fill: #D2E3FC;\n",
              "    }\n",
              "\n",
              "    [theme=dark] .colab-df-convert:hover {\n",
              "      background-color: #434B5C;\n",
              "      box-shadow: 0px 1px 3px 1px rgba(0, 0, 0, 0.15);\n",
              "      filter: drop-shadow(0px 1px 2px rgba(0, 0, 0, 0.3));\n",
              "      fill: #FFFFFF;\n",
              "    }\n",
              "  </style>\n",
              "\n",
              "      <script>\n",
              "        const buttonEl =\n",
              "          document.querySelector('#df-c25224b8-9290-4870-a940-49b8486e7dd2 button.colab-df-convert');\n",
              "        buttonEl.style.display =\n",
              "          google.colab.kernel.accessAllowed ? 'block' : 'none';\n",
              "\n",
              "        async function convertToInteractive(key) {\n",
              "          const element = document.querySelector('#df-c25224b8-9290-4870-a940-49b8486e7dd2');\n",
              "          const dataTable =\n",
              "            await google.colab.kernel.invokeFunction('convertToInteractive',\n",
              "                                                     [key], {});\n",
              "          if (!dataTable) return;\n",
              "\n",
              "          const docLinkHtml = 'Like what you see? Visit the ' +\n",
              "            '<a target=\"_blank\" href=https://colab.research.google.com/notebooks/data_table.ipynb>data table notebook</a>'\n",
              "            + ' to learn more about interactive tables.';\n",
              "          element.innerHTML = '';\n",
              "          dataTable['output_type'] = 'display_data';\n",
              "          await google.colab.output.renderOutput(dataTable, element);\n",
              "          const docLink = document.createElement('div');\n",
              "          docLink.innerHTML = docLinkHtml;\n",
              "          element.appendChild(docLink);\n",
              "        }\n",
              "      </script>\n",
              "    </div>\n",
              "  </div>\n",
              "  "
            ]
          },
          "metadata": {},
          "execution_count": 11
        }
      ]
    },
    {
      "cell_type": "code",
      "source": [
        "# Show the columns in the dataset\n",
        "df_cols = df.columns\n",
        "len(df_cols) , df_cols"
      ],
      "metadata": {
        "colab": {
          "base_uri": "https://localhost:8080/"
        },
        "id": "tSBuxhgbNF4d",
        "outputId": "029c5e26-c1d8-45e2-cd67-3a8fa8364725"
      },
      "execution_count": null,
      "outputs": [
        {
          "output_type": "execute_result",
          "data": {
            "text/plain": [
              "(40,\n",
              " Index(['food_category', 'food_department', 'food_family',\n",
              "        'store_sales(in millions)', 'store_cost(in millions)',\n",
              "        'unit_sales(in millions)', 'promotion_name', 'sales_country',\n",
              "        'marital_status', 'gender', 'total_children', 'education',\n",
              "        'member_card', 'occupation', 'houseowner', 'avg_cars_at home(approx)',\n",
              "        'avg. yearly_income', 'num_children_at_home',\n",
              "        'avg_cars_at home(approx).1', 'brand_name', 'SRP', 'gross_weight',\n",
              "        'net_weight', 'recyclable_package', 'low_fat', 'units_per_case',\n",
              "        'store_type', 'store_city', 'store_state', 'store_sqft', 'grocery_sqft',\n",
              "        'frozen_sqft', 'meat_sqft', 'coffee_bar', 'video_store', 'salad_bar',\n",
              "        'prepared_food', 'florist', 'media_type', 'cost'],\n",
              "       dtype='object'))"
            ]
          },
          "metadata": {},
          "execution_count": 12
        }
      ]
    },
    {
      "cell_type": "markdown",
      "source": [
        "## Preprocessing"
      ],
      "metadata": {
        "id": "jHiAggb37iPJ"
      }
    },
    {
      "cell_type": "code",
      "source": [
        "# Check for missing values\n",
        "df.isna().sum()"
      ],
      "metadata": {
        "colab": {
          "base_uri": "https://localhost:8080/"
        },
        "id": "6bmdlSWF5yeM",
        "outputId": "4660a75a-d84f-4855-fdcc-3f3e91d14b90"
      },
      "execution_count": null,
      "outputs": [
        {
          "output_type": "execute_result",
          "data": {
            "text/plain": [
              "food_category                 0\n",
              "food_department               0\n",
              "food_family                   0\n",
              "store_sales(in millions)      0\n",
              "store_cost(in millions)       0\n",
              "unit_sales(in millions)       0\n",
              "promotion_name                0\n",
              "sales_country                 0\n",
              "marital_status                0\n",
              "gender                        0\n",
              "total_children                0\n",
              "education                     0\n",
              "member_card                   0\n",
              "occupation                    0\n",
              "houseowner                    0\n",
              "avg_cars_at home(approx)      0\n",
              "avg. yearly_income            0\n",
              "num_children_at_home          0\n",
              "avg_cars_at home(approx).1    0\n",
              "brand_name                    0\n",
              "SRP                           0\n",
              "gross_weight                  0\n",
              "net_weight                    0\n",
              "recyclable_package            0\n",
              "low_fat                       0\n",
              "units_per_case                0\n",
              "store_type                    0\n",
              "store_city                    0\n",
              "store_state                   0\n",
              "store_sqft                    0\n",
              "grocery_sqft                  0\n",
              "frozen_sqft                   0\n",
              "meat_sqft                     0\n",
              "coffee_bar                    0\n",
              "video_store                   0\n",
              "salad_bar                     0\n",
              "prepared_food                 0\n",
              "florist                       0\n",
              "media_type                    0\n",
              "cost                          0\n",
              "dtype: int64"
            ]
          },
          "metadata": {},
          "execution_count": 13
        }
      ]
    },
    {
      "cell_type": "markdown",
      "source": [
        "# 1. Linear Set"
      ],
      "metadata": {
        "id": "nUzzynSEKRzM"
      }
    },
    {
      "cell_type": "markdown",
      "source": [
        "## Dataset for univariate linear regression"
      ],
      "metadata": {
        "id": "j_sgtQ3j_upE"
      }
    },
    {
      "cell_type": "code",
      "source": [
        "x = df[\"store_cost(in millions)\"].values\n",
        "y = df[\"store_sales(in millions)\"].values\n",
        "x, y"
      ],
      "metadata": {
        "colab": {
          "base_uri": "https://localhost:8080/"
        },
        "id": "JVT413QE-xlE",
        "outputId": "2b7ad7aa-6dfb-49a5-897e-a4a83d8a7b3e"
      },
      "execution_count": null,
      "outputs": [
        {
          "output_type": "execute_result",
          "data": {
            "text/plain": [
              "(array([2.7232, 2.5944, 1.3616, ..., 2.5392, 2.5668, 4.232 ]),\n",
              " array([7.36, 5.52, 3.68, ..., 5.52, 8.28, 9.2 ]))"
            ]
          },
          "metadata": {},
          "execution_count": 14
        }
      ]
    },
    {
      "cell_type": "code",
      "source": [
        "# Create a scatter plot with a regression line\n",
        "sns.scatterplot(x=x, y=y)\n",
        "\n",
        "# Set the x-label and y-label\n",
        "plt.xlabel(\"X Data\")\n",
        "plt.ylabel(\"Y Data\")\n",
        "\n",
        "# Show the plot\n",
        "plt.show()"
      ],
      "metadata": {
        "colab": {
          "base_uri": "https://localhost:8080/",
          "height": 449
        },
        "id": "Ffgv5oaTR6fO",
        "outputId": "f822531d-9471-4647-bbfe-202cb895225f"
      },
      "execution_count": null,
      "outputs": [
        {
          "output_type": "display_data",
          "data": {
            "text/plain": [
              "<Figure size 640x480 with 1 Axes>"
            ],
            "image/png": "[encoded data removed]"
          },
          "metadata": {}
        }
      ]
    },
    {
      "cell_type": "markdown",
      "source": [
        "## Train and test dataset"
      ],
      "metadata": {
        "id": "gTrlZrq-aggI"
      }
    },
    {
      "cell_type": "code",
      "source": [
        "# Import the library\n",
        "from sklearn.model_selection import train_test_split"
      ],
      "metadata": {
        "id": "C7d9aTHwaj1y"
      },
      "execution_count": null,
      "outputs": []
    },
    {
      "cell_type": "code",
      "source": [
        "# Create the train and test dataset\n",
        "x_train, x_test, y_train, y_test = train_test_split(x, y,\n",
        "                                                    train_size=0.8,\n",
        "                                                    test_size=0.2,\n",
        "                                                    random_state=42 ) #for producing the same dataset to contorl data leakage\n",
        ""
      ],
      "metadata": {
        "id": "c_xZ9iX8bBYv"
      },
      "execution_count": null,
      "outputs": []
    },
    {
      "cell_type": "code",
      "source": [
        "# check the shape of the dataset\n",
        "x_train.shape , y_train.shape, x_test.shape, y_test.shape"
      ],
      "metadata": {
        "colab": {
          "base_uri": "https://localhost:8080/"
        },
        "id": "1Hp8zQHedGbS",
        "outputId": "e545b08f-8390-4962-ac4d-7db0a8a27235"
      },
      "execution_count": null,
      "outputs": [
        {
          "output_type": "execute_result",
          "data": {
            "text/plain": [
              "((48342,), (48342,), (12086,), (12086,))"
            ]
          },
          "metadata": {},
          "execution_count": 18
        }
      ]
    },
    {
      "cell_type": "code",
      "source": [
        "# Reshape 1D data to 2D\n",
        "x_train = x_train.reshape(-1,1)\n",
        "y_train = y_train.reshape(-1,1)\n",
        "x_test = x_test.reshape(-1,1)\n",
        "y_test = y_test.reshape(-1,1)\n",
        "x_train.shape, y_train.shape, x_test.shape, y_test.shape"
      ],
      "metadata": {
        "colab": {
          "base_uri": "https://localhost:8080/"
        },
        "id": "lfd1oZYsjXX1",
        "outputId": "aea12082-6a4e-458c-d3a1-048536625d12"
      },
      "execution_count": null,
      "outputs": [
        {
          "output_type": "execute_result",
          "data": {
            "text/plain": [
              "((48342, 1), (48342, 1), (12086, 1), (12086, 1))"
            ]
          },
          "metadata": {},
          "execution_count": 19
        }
      ]
    },
    {
      "cell_type": "markdown",
      "source": [
        "## Simple Linear Regession"
      ],
      "metadata": {
        "id": "VBkG2u0BDIb8"
      }
    },
    {
      "cell_type": "code",
      "source": [
        "# Import the library\n",
        "from sklearn.linear_model import LinearRegression"
      ],
      "metadata": {
        "id": "WGTPsWoMDHpt"
      },
      "execution_count": null,
      "outputs": []
    },
    {
      "cell_type": "code",
      "source": [
        "# Call and fit the model\n",
        "lr = LinearRegression()\n",
        "lr.fit(x_train, y_train)"
      ],
      "metadata": {
        "colab": {
          "base_uri": "https://localhost:8080/",
          "height": 74
        },
        "id": "QOUje5aserZ8",
        "outputId": "9b6cf355-8ceb-4754-945c-0d18f47dc493"
      },
      "execution_count": null,
      "outputs": [
        {
          "output_type": "execute_result",
          "data": {
            "text/plain": [
              "LinearRegression()"
            ],
            "text/html": [
              "<style>#sk-container-id-1 {color: black;background-color: white;}#sk-container-id-1 pre{padding: 0;}#sk-container-id-1 div.sk-toggleable {background-color: white;}#sk-container-id-1 label.sk-toggleable__label {cursor: pointer;display: block;width: 100%;margin-bottom: 0;padding: 0.3em;box-sizing: border-box;text-align: center;}#sk-container-id-1 label.sk-toggleable__label-arrow:before {content: \"▸\";float: left;margin-right: 0.25em;color: #696969;}#sk-container-id-1 label.sk-toggleable__label-arrow:hover:before {color: black;}#sk-container-id-1 div.sk-estimator:hover label.sk-toggleable__label-arrow:before {color: black;}#sk-container-id-1 div.sk-toggleable__content {max-height: 0;max-width: 0;overflow: hidden;text-align: left;background-color: #f0f8ff;}#sk-container-id-1 div.sk-toggleable__content pre {margin: 0.2em;color: black;border-radius: 0.25em;background-color: #f0f8ff;}#sk-container-id-1 input.sk-toggleable__control:checked~div.sk-toggleable__content {max-height: 200px;max-width: 100%;overflow: auto;}#sk-container-id-1 input.sk-toggleable__control:checked~label.sk-toggleable__label-arrow:before {content: \"▾\";}#sk-container-id-1 div.sk-estimator input.sk-toggleable__control:checked~label.sk-toggleable__label {background-color: #d4ebff;}#sk-container-id-1 div.sk-label input.sk-toggleable__control:checked~label.sk-toggleable__label {background-color: #d4ebff;}#sk-container-id-1 input.sk-hidden--visually {border: 0;clip: rect(1px 1px 1px 1px);clip: rect(1px, 1px, 1px, 1px);height: 1px;margin: -1px;overflow: hidden;padding: 0;position: absolute;width: 1px;}#sk-container-id-1 div.sk-estimator {font-family: monospace;background-color: #f0f8ff;border: 1px dotted black;border-radius: 0.25em;box-sizing: border-box;margin-bottom: 0.5em;}#sk-container-id-1 div.sk-estimator:hover {background-color: #d4ebff;}#sk-container-id-1 div.sk-parallel-item::after {content: \"\";width: 100%;border-bottom: 1px solid gray;flex-grow: 1;}#sk-container-id-1 div.sk-label:hover label.sk-toggleable__label {background-color: #d4ebff;}#sk-container-id-1 div.sk-serial::before {content: \"\";position: absolute;border-left: 1px solid gray;box-sizing: border-box;top: 0;bottom: 0;left: 50%;z-index: 0;}#sk-container-id-1 div.sk-serial {display: flex;flex-direction: column;align-items: center;background-color: white;padding-right: 0.2em;padding-left: 0.2em;position: relative;}#sk-container-id-1 div.sk-item {position: relative;z-index: 1;}#sk-container-id-1 div.sk-parallel {display: flex;align-items: stretch;justify-content: center;background-color: white;position: relative;}#sk-container-id-1 div.sk-item::before, #sk-container-id-1 div.sk-parallel-item::before {content: \"\";position: absolute;border-left: 1px solid gray;box-sizing: border-box;top: 0;bottom: 0;left: 50%;z-index: -1;}#sk-container-id-1 div.sk-parallel-item {display: flex;flex-direction: column;z-index: 1;position: relative;background-color: white;}#sk-container-id-1 div.sk-parallel-item:first-child::after {align-self: flex-end;width: 50%;}#sk-container-id-1 div.sk-parallel-item:last-child::after {align-self: flex-start;width: 50%;}#sk-container-id-1 div.sk-parallel-item:only-child::after {width: 0;}#sk-container-id-1 div.sk-dashed-wrapped {border: 1px dashed gray;margin: 0 0.4em 0.5em 0.4em;box-sizing: border-box;padding-bottom: 0.4em;background-color: white;}#sk-container-id-1 div.sk-label label {font-family: monospace;font-weight: bold;display: inline-block;line-height: 1.2em;}#sk-container-id-1 div.sk-label-container {text-align: center;}#sk-container-id-1 div.sk-container {/* jupyter's `normalize.less` sets `[hidden] { display: none; }` but bootstrap.min.css set `[hidden] { display: none !important; }` so we also need the `!important` here to be able to override the default hidden behavior on the sphinx rendered scikit-learn.org. See: https://github.com/scikit-learn/scikit-learn/issues/21755 */display: inline-block !important;position: relative;}#sk-container-id-1 div.sk-text-repr-fallback {display: none;}</style><div id=\"sk-container-id-1\" class=\"sk-top-container\"><div class=\"sk-text-repr-fallback\"><pre>LinearRegression()</pre><b>In a Jupyter environment, please rerun this cell to show the HTML representation or trust the notebook. <br />On GitHub, the HTML representation is unable to render, please try loading this page with nbviewer.org.</b></div><div class=\"sk-container\" hidden><div class=\"sk-item\"><div class=\"sk-estimator sk-toggleable\"><input class=\"sk-toggleable__control sk-hidden--visually\" id=\"sk-estimator-id-1\" type=\"checkbox\" checked><label for=\"sk-estimator-id-1\" class=\"sk-toggleable__label sk-toggleable__label-arrow\">LinearRegression</label><div class=\"sk-toggleable__content\"><pre>LinearRegression()</pre></div></div></div></div></div>"
            ]
          },
          "metadata": {},
          "execution_count": 21
        }
      ]
    },
    {
      "cell_type": "code",
      "source": [
        "# Predict on test dataset\n",
        "preds_lr = lr.predict(x_test.reshape(-1,1))\n",
        "preds_lr"
      ],
      "metadata": {
        "colab": {
          "base_uri": "https://localhost:8080/"
        },
        "id": "IA96PM83fj06",
        "outputId": "a3bd0d5a-175b-4101-ddc1-360fa2032137"
      },
      "execution_count": null,
      "outputs": [
        {
          "output_type": "execute_result",
          "data": {
            "text/plain": [
              "array([[ 6.91260303],\n",
              "       [ 8.30762279],\n",
              "       [ 6.02535954],\n",
              "       ...,\n",
              "       [ 4.96476233],\n",
              "       [10.37421761],\n",
              "       [12.27428366]])"
            ]
          },
          "metadata": {},
          "execution_count": 22
        }
      ]
    },
    {
      "cell_type": "code",
      "source": [
        "# lets find the residual\n",
        "residual_lr = (y_test - preds_lr)\n",
        "residual_lr"
      ],
      "metadata": {
        "colab": {
          "base_uri": "https://localhost:8080/"
        },
        "id": "g9JIqeKylhLW",
        "outputId": "75df37b3-edf6-4c37-adb3-8001bb695dce"
      },
      "execution_count": null,
      "outputs": [
        {
          "output_type": "execute_result",
          "data": {
            "text/plain": [
              "array([[ 0.04739697],\n",
              "       [ 0.63237721],\n",
              "       [-0.32535954],\n",
              "       ...,\n",
              "       [-0.37476233],\n",
              "       [-1.40421761],\n",
              "       [ 2.84571634]])"
            ]
          },
          "metadata": {},
          "execution_count": 23
        }
      ]
    },
    {
      "cell_type": "markdown",
      "source": [
        "## Calculate evaluation metrics"
      ],
      "metadata": {
        "id": "uP10IBciHt_T"
      }
    },
    {
      "cell_type": "code",
      "source": [
        "from sklearn.metrics import r2_score, mean_squared_error, mean_absolute_error\n",
        "# calculate mean squared error\n",
        "mse_lr = mean_squared_error(y_test, preds_lr)\n",
        "\n",
        "# calculate mean absolute error\n",
        "mae_lr = mean_absolute_error(y_test, preds_lr)\n",
        "\n",
        "# print the MSE and MAE\n",
        "print('MSE:', mse_lr)\n",
        "print('MAE:', mae_lr)"
      ],
      "metadata": {
        "colab": {
          "base_uri": "https://localhost:8080/"
        },
        "id": "x4-hwP44HsbL",
        "outputId": "c564471b-1ebf-484f-cd28-c4dfaf89a783"
      },
      "execution_count": null,
      "outputs": [
        {
          "output_type": "stream",
          "name": "stdout",
          "text": [
            "MSE: 1.074143573153282\n",
            "MAE: 0.7995742914974527\n"
          ]
        }
      ]
    },
    {
      "cell_type": "markdown",
      "source": [
        "## Plot the Residuals"
      ],
      "metadata": {
        "id": "U1f-m5XunNvm"
      }
    },
    {
      "cell_type": "code",
      "source": [
        "def plot_predictions(test_data=x_test,\n",
        "                     test_labels=y_test,\n",
        "                     predictions=preds_lr):\n",
        "\n",
        "  plt.figure(figsize=(10, 7))\n",
        "  # Plot test data in green\n",
        "  plt.scatter(test_data, test_labels, c=\"g\", label=\"Testing data\")\n",
        "  # Plot the predictions in red (predictions were made on the test data)\n",
        "  plt.scatter(test_data, predictions, c=\"r\", label=\"Predictions\")\n",
        "  plt.title(\"Testing Data vs Prediction\")\n",
        "  # Show the legend\n",
        "  plt.legend();"
      ],
      "metadata": {
        "id": "5RfCvXQYFuK8"
      },
      "execution_count": null,
      "outputs": []
    },
    {
      "cell_type": "code",
      "source": [
        "plot_predictions()"
      ],
      "metadata": {
        "colab": {
          "base_uri": "https://localhost:8080/",
          "height": 608
        },
        "id": "-EBWgHxfF26z",
        "outputId": "b01ffbf5-2936-4071-ce94-71f2b8b16447"
      },
      "execution_count": null,
      "outputs": [
        {
          "output_type": "display_data",
          "data": {
            "text/plain": [
              "<Figure size 1000x700 with 1 Axes>"
            ],
            "image/png": "[encoded data removed]"
          },
          "metadata": {}
        }
      ]
    },
    {
      "cell_type": "code",
      "source": [
        "def plot_residuals(predictions, residual):\n",
        "  # Create a scatter plot with residuals and predicted values\n",
        "  plt.scatter(predictions, residual, color='green')\n",
        "\n",
        "  # Add a horizontal line at y=0 to indicate the mean of residuals\n",
        "  plt.axhline(y=0, color='red', linestyle='--')\n",
        "\n",
        "  # Set the x-label and y-label\n",
        "  plt.xlabel(\"Predicted Values\")\n",
        "  plt.ylabel(\"Residuals\")\n",
        "\n",
        "  # Show the plot\n",
        "  plt.show()"
      ],
      "metadata": {
        "id": "PEP9CRVqP8RY"
      },
      "execution_count": null,
      "outputs": []
    },
    {
      "cell_type": "code",
      "source": [
        "plot_residuals(preds_lr, residual_lr)"
      ],
      "metadata": {
        "colab": {
          "base_uri": "https://localhost:8080/",
          "height": 449
        },
        "id": "oL-4WBz5VFPb",
        "outputId": "f7e53a91-9c10-4e9f-f4c2-77aebaa5e629"
      },
      "execution_count": null,
      "outputs": [
        {
          "output_type": "display_data",
          "data": {
            "text/plain": [
              "<Figure size 640x480 with 1 Axes>"
            ],
            "image/png": "[encoded data removed]"
          },
          "metadata": {}
        }
      ]
    },
    {
      "cell_type": "markdown",
      "source": [
        "**Since the Residual values is not centered around the 0 its mean that linear regression performing the not well and not capturing most of the variation in tha data**"
      ],
      "metadata": {
        "id": "rExPCJagqF1P"
      }
    },
    {
      "cell_type": "markdown",
      "source": [
        "# 2. k-nn regression"
      ],
      "metadata": {
        "id": "CL8ZLJZzQjcR"
      }
    },
    {
      "cell_type": "code",
      "source": [
        "# Import the function\n",
        "from sklearn.neighbors import KNeighborsRegressor\n",
        "# Call and fit\n",
        "knn_reg = KNeighborsRegressor(n_neighbors=5)\n",
        "knn_reg.fit(x_train, y_train)"
      ],
      "metadata": {
        "colab": {
          "base_uri": "https://localhost:8080/",
          "height": 74
        },
        "id": "CNPowrRGQrnr",
        "outputId": "a39f9338-acba-417f-cb5f-2c6a79cfc91e"
      },
      "execution_count": null,
      "outputs": [
        {
          "output_type": "execute_result",
          "data": {
            "text/plain": [
              "KNeighborsRegressor()"
            ],
            "text/html": [
              "<style>#sk-container-id-3 {color: black;background-color: white;}#sk-container-id-3 pre{padding: 0;}#sk-container-id-3 div.sk-toggleable {background-color: white;}#sk-container-id-3 label.sk-toggleable__label {cursor: pointer;display: block;width: 100%;margin-bottom: 0;padding: 0.3em;box-sizing: border-box;text-align: center;}#sk-container-id-3 label.sk-toggleable__label-arrow:before {content: \"▸\";float: left;margin-right: 0.25em;color: #696969;}#sk-container-id-3 label.sk-toggleable__label-arrow:hover:before {color: black;}#sk-container-id-3 div.sk-estimator:hover label.sk-toggleable__label-arrow:before {color: black;}#sk-container-id-3 div.sk-toggleable__content {max-height: 0;max-width: 0;overflow: hidden;text-align: left;background-color: #f0f8ff;}#sk-container-id-3 div.sk-toggleable__content pre {margin: 0.2em;color: black;border-radius: 0.25em;background-color: #f0f8ff;}#sk-container-id-3 input.sk-toggleable__control:checked~div.sk-toggleable__content {max-height: 200px;max-width: 100%;overflow: auto;}#sk-container-id-3 input.sk-toggleable__control:checked~label.sk-toggleable__label-arrow:before {content: \"▾\";}#sk-container-id-3 div.sk-estimator input.sk-toggleable__control:checked~label.sk-toggleable__label {background-color: #d4ebff;}#sk-container-id-3 div.sk-label input.sk-toggleable__control:checked~label.sk-toggleable__label {background-color: #d4ebff;}#sk-container-id-3 input.sk-hidden--visually {border: 0;clip: rect(1px 1px 1px 1px);clip: rect(1px, 1px, 1px, 1px);height: 1px;margin: -1px;overflow: hidden;padding: 0;position: absolute;width: 1px;}#sk-container-id-3 div.sk-estimator {font-family: monospace;background-color: #f0f8ff;border: 1px dotted black;border-radius: 0.25em;box-sizing: border-box;margin-bottom: 0.5em;}#sk-container-id-3 div.sk-estimator:hover {background-color: #d4ebff;}#sk-container-id-3 div.sk-parallel-item::after {content: \"\";width: 100%;border-bottom: 1px solid gray;flex-grow: 1;}#sk-container-id-3 div.sk-label:hover label.sk-toggleable__label {background-color: #d4ebff;}#sk-container-id-3 div.sk-serial::before {content: \"\";position: absolute;border-left: 1px solid gray;box-sizing: border-box;top: 0;bottom: 0;left: 50%;z-index: 0;}#sk-container-id-3 div.sk-serial {display: flex;flex-direction: column;align-items: center;background-color: white;padding-right: 0.2em;padding-left: 0.2em;position: relative;}#sk-container-id-3 div.sk-item {position: relative;z-index: 1;}#sk-container-id-3 div.sk-parallel {display: flex;align-items: stretch;justify-content: center;background-color: white;position: relative;}#sk-container-id-3 div.sk-item::before, #sk-container-id-3 div.sk-parallel-item::before {content: \"\";position: absolute;border-left: 1px solid gray;box-sizing: border-box;top: 0;bottom: 0;left: 50%;z-index: -1;}#sk-container-id-3 div.sk-parallel-item {display: flex;flex-direction: column;z-index: 1;position: relative;background-color: white;}#sk-container-id-3 div.sk-parallel-item:first-child::after {align-self: flex-end;width: 50%;}#sk-container-id-3 div.sk-parallel-item:last-child::after {align-self: flex-start;width: 50%;}#sk-container-id-3 div.sk-parallel-item:only-child::after {width: 0;}#sk-container-id-3 div.sk-dashed-wrapped {border: 1px dashed gray;margin: 0 0.4em 0.5em 0.4em;box-sizing: border-box;padding-bottom: 0.4em;background-color: white;}#sk-container-id-3 div.sk-label label {font-family: monospace;font-weight: bold;display: inline-block;line-height: 1.2em;}#sk-container-id-3 div.sk-label-container {text-align: center;}#sk-container-id-3 div.sk-container {/* jupyter's `normalize.less` sets `[hidden] { display: none; }` but bootstrap.min.css set `[hidden] { display: none !important; }` so we also need the `!important` here to be able to override the default hidden behavior on the sphinx rendered scikit-learn.org. See: https://github.com/scikit-learn/scikit-learn/issues/21755 */display: inline-block !important;position: relative;}#sk-container-id-3 div.sk-text-repr-fallback {display: none;}</style><div id=\"sk-container-id-3\" class=\"sk-top-container\"><div class=\"sk-text-repr-fallback\"><pre>KNeighborsRegressor()</pre><b>In a Jupyter environment, please rerun this cell to show the HTML representation or trust the notebook. <br />On GitHub, the HTML representation is unable to render, please try loading this page with nbviewer.org.</b></div><div class=\"sk-container\" hidden><div class=\"sk-item\"><div class=\"sk-estimator sk-toggleable\"><input class=\"sk-toggleable__control sk-hidden--visually\" id=\"sk-estimator-id-3\" type=\"checkbox\" checked><label for=\"sk-estimator-id-3\" class=\"sk-toggleable__label sk-toggleable__label-arrow\">KNeighborsRegressor</label><div class=\"sk-toggleable__content\"><pre>KNeighborsRegressor()</pre></div></div></div></div></div>"
            ]
          },
          "metadata": {},
          "execution_count": 30
        }
      ]
    },
    {
      "cell_type": "code",
      "source": [
        "# Predict on test dataset\n",
        "preds_knn_reg = knn_reg.predict(x_test.reshape(-1,1))\n",
        "preds_knn_reg"
      ],
      "metadata": {
        "colab": {
          "base_uri": "https://localhost:8080/"
        },
        "id": "AV0QuO8xUJDJ",
        "outputId": "56b61e2b-9731-46ba-f4cc-6b0945f9f542"
      },
      "execution_count": null,
      "outputs": [
        {
          "output_type": "execute_result",
          "data": {
            "text/plain": [
              "array([[ 7.888],\n",
              "       [ 8.94 ],\n",
              "       [ 6.32 ],\n",
              "       ...,\n",
              "       [ 5.454],\n",
              "       [10.552],\n",
              "       [14.952]])"
            ]
          },
          "metadata": {},
          "execution_count": 31
        }
      ]
    },
    {
      "cell_type": "code",
      "source": [
        "# lets find the residual\n",
        "residual_knn_reg = (y_test - preds_knn_reg)\n",
        "residual_knn_reg"
      ],
      "metadata": {
        "colab": {
          "base_uri": "https://localhost:8080/"
        },
        "id": "CIb9FSdkUbLd",
        "outputId": "56d708a0-e90a-4448-898f-43c588c533ad"
      },
      "execution_count": null,
      "outputs": [
        {
          "output_type": "execute_result",
          "data": {
            "text/plain": [
              "array([[-0.928],\n",
              "       [ 0.   ],\n",
              "       [-0.62 ],\n",
              "       ...,\n",
              "       [-0.864],\n",
              "       [-1.582],\n",
              "       [ 0.168]])"
            ]
          },
          "metadata": {},
          "execution_count": 32
        }
      ]
    },
    {
      "cell_type": "markdown",
      "source": [
        "## Plot the residuals"
      ],
      "metadata": {
        "id": "pu1QdewXVNse"
      }
    },
    {
      "cell_type": "code",
      "source": [
        "plot_residuals(preds_knn_reg, residual_knn_reg)"
      ],
      "metadata": {
        "colab": {
          "base_uri": "https://localhost:8080/",
          "height": 449
        },
        "id": "M1e7EPEJUhZH",
        "outputId": "27fd5e5e-233a-4906-badb-2be9f7c0e82c"
      },
      "execution_count": null,
      "outputs": [
        {
          "output_type": "display_data",
          "data": {
            "text/plain": [
              "<Figure size 640x480 with 1 Axes>"
            ],
            "image/png": "[encoded data removed]"
          },
          "metadata": {}
        }
      ]
    },
    {
      "cell_type": "markdown",
      "source": [
        "**Since the Residual values is centered around the 0 its mean that linear regression performing the well and capturing most of the variation in the data**"
      ],
      "metadata": {
        "id": "F8zz9s-_MqYH"
      }
    },
    {
      "cell_type": "markdown",
      "source": [
        "## Calculate Evaluation metrics"
      ],
      "metadata": {
        "id": "9G86QLT9KkiT"
      }
    },
    {
      "cell_type": "code",
      "source": [
        "# calculate mean squared error\n",
        "mse_knn_reg = mean_squared_error(y_test, preds_knn_reg)\n",
        "\n",
        "# calculate mean absolute error\n",
        "mae_knn_reg = mean_absolute_error(y_test, preds_knn_reg)\n",
        "\n",
        "# print the MSE and MAE\n",
        "print('MSE:', mse_knn_reg)\n",
        "print('MAE:', mae_knn_reg)"
      ],
      "metadata": {
        "colab": {
          "base_uri": "https://localhost:8080/"
        },
        "id": "t8sW19aXKkHT",
        "outputId": "a64cbfa1-6afb-4458-becb-ccc168b4d96e"
      },
      "execution_count": null,
      "outputs": [
        {
          "output_type": "stream",
          "name": "stdout",
          "text": [
            "MSE: 0.8258787165315241\n",
            "MAE: 0.5859046831044183\n"
          ]
        }
      ]
    },
    {
      "cell_type": "markdown",
      "source": [
        "# Compare Linear Regression vs knn Regessor"
      ],
      "metadata": {
        "id": "tM2CqmUUWB6q"
      }
    },
    {
      "cell_type": "code",
      "source": [
        "# create a dataframe to store the scores and model names\n",
        "data = {\n",
        "    'Score': [mse_lr, mae_lr, mse_knn_reg, mae_knn_reg],\n",
        "    'Metric': ['MSE', 'MAE', 'MSE', 'MAE'],\n",
        "    'Model': ['Linear Regression', 'Linear Regression', 'KNN Regression', 'KNN Regression']\n",
        "}\n",
        "df_eval = pd.DataFrame(data)\n",
        "\n",
        "# plot the scores using a bar plot\n",
        "sns.set_style('whitegrid')\n",
        "sns.catplot(x='Model', y='Score', hue='Metric', data=df_eval, kind='bar', palette='colorblind')\n",
        "plt.title('MSE and MAE Comparison')\n",
        "plt.show()"
      ],
      "metadata": {
        "colab": {
          "base_uri": "https://localhost:8080/",
          "height": 529
        },
        "id": "YBR0gK1uN3Bx",
        "outputId": "34eccc9e-7150-4341-f921-c3260a95dfc5"
      },
      "execution_count": null,
      "outputs": [
        {
          "output_type": "display_data",
          "data": {
            "text/plain": [
              "<Figure size 580.25x500 with 1 Axes>"
            ],
            "image/png": "[encoded data removed]"
          },
          "metadata": {}
        }
      ]
    },
    {
      "cell_type": "markdown",
      "source": [
        "**We can see that KNN Regressor works well because the mse and mae is smaller while comapre to the Linear regession**"
      ],
      "metadata": {
        "id": "EfTpYvO3O6Mg"
      }
    },
    {
      "cell_type": "markdown",
      "source": [
        "#  3. Logistic Regression"
      ],
      "metadata": {
        "id": "Vu0yzeb9PjD-"
      }
    },
    {
      "cell_type": "markdown",
      "source": [
        "## Create the data"
      ],
      "metadata": {
        "id": "FCmjBNAahjZh"
      }
    },
    {
      "cell_type": "code",
      "source": [
        "new_df = df.loc[:, [\"store_sales(in millions)\" , \"marital_status\"]]\n",
        "new_df.head()"
      ],
      "metadata": {
        "colab": {
          "base_uri": "https://localhost:8080/",
          "height": 206
        },
        "id": "E1zj1-ld94b1",
        "outputId": "fd37f990-a384-4b51-ef6c-0cfb56b76099"
      },
      "execution_count": null,
      "outputs": [
        {
          "output_type": "execute_result",
          "data": {
            "text/plain": [
              "   store_sales(in millions) marital_status\n",
              "0                      7.36              M\n",
              "1                      5.52              M\n",
              "2                      3.68              S\n",
              "3                      3.68              M\n",
              "4                      4.08              M"
            ],
            "text/html": [
              "\n",
              "  <div id=\"df-54c2def9-b3b8-4864-93ab-923f9391f3ce\">\n",
              "    <div class=\"colab-df-container\">\n",
              "      <div>\n",
              "<style scoped>\n",
              "    .dataframe tbody tr th:only-of-type {\n",
              "        vertical-align: middle;\n",
              "    }\n",
              "\n",
              "    .dataframe tbody tr th {\n",
              "        vertical-align: top;\n",
              "    }\n",
              "\n",
              "    .dataframe thead th {\n",
              "        text-align: right;\n",
              "    }\n",
              "</style>\n",
              "<table border=\"1\" class=\"dataframe\">\n",
              "  <thead>\n",
              "    <tr style=\"text-align: right;\">\n",
              "      <th></th>\n",
              "      <th>store_sales(in millions)</th>\n",
              "      <th>marital_status</th>\n",
              "    </tr>\n",
              "  </thead>\n",
              "  <tbody>\n",
              "    <tr>\n",
              "      <th>0</th>\n",
              "      <td>7.36</td>\n",
              "      <td>M</td>\n",
              "    </tr>\n",
              "    <tr>\n",
              "      <th>1</th>\n",
              "      <td>5.52</td>\n",
              "      <td>M</td>\n",
              "    </tr>\n",
              "    <tr>\n",
              "      <th>2</th>\n",
              "      <td>3.68</td>\n",
              "      <td>S</td>\n",
              "    </tr>\n",
              "    <tr>\n",
              "      <th>3</th>\n",
              "      <td>3.68</td>\n",
              "      <td>M</td>\n",
              "    </tr>\n",
              "    <tr>\n",
              "      <th>4</th>\n",
              "      <td>4.08</td>\n",
              "      <td>M</td>\n",
              "    </tr>\n",
              "  </tbody>\n",
              "</table>\n",
              "</div>\n",
              "      <button class=\"colab-df-convert\" onclick=\"convertToInteractive('df-54c2def9-b3b8-4864-93ab-923f9391f3ce')\"\n",
              "              title=\"Convert this dataframe to an interactive table.\"\n",
              "              style=\"display:none;\">\n",
              "        \n",
              "  <svg xmlns=\"http://www.w3.org/2000/svg\" height=\"24px\"viewBox=\"0 0 24 24\"\n",
              "       width=\"24px\">\n",
              "    <path d=\"M0 0h24v24H0V0z\" fill=\"none\"/>\n",
              "    <path d=\"M18.56 5.44l.94 2.06.94-2.06 2.06-.94-2.06-.94-.94-2.06-.94 2.06-2.06.94zm-11 1L8.5 8.5l.94-2.06 2.06-.94-2.06-.94L8.5 2.5l-.94 2.06-2.06.94zm10 10l.94 2.06.94-2.06 2.06-.94-2.06-.94-.94-2.06-.94 2.06-2.06.94z\"/><path d=\"M17.41 7.96l-1.37-1.37c-.4-.4-.92-.59-1.43-.59-.52 0-1.04.2-1.43.59L10.3 9.45l-7.72 7.72c-.78.78-.78 2.05 0 2.83L4 21.41c.39.39.9.59 1.41.59.51 0 1.02-.2 1.41-.59l7.78-7.78 2.81-2.81c.8-.78.8-2.07 0-2.86zM5.41 20L4 18.59l7.72-7.72 1.47 1.35L5.41 20z\"/>\n",
              "  </svg>\n",
              "      </button>\n",
              "      \n",
              "  <style>\n",
              "    .colab-df-container {\n",
              "      display:flex;\n",
              "      flex-wrap:wrap;\n",
              "      gap: 12px;\n",
              "    }\n",
              "\n",
              "    .colab-df-convert {\n",
              "      background-color: #E8F0FE;\n",
              "      border: none;\n",
              "      border-radius: 50%;\n",
              "      cursor: pointer;\n",
              "      display: none;\n",
              "      fill: #1967D2;\n",
              "      height: 32px;\n",
              "      padding: 0 0 0 0;\n",
              "      width: 32px;\n",
              "    }\n",
              "\n",
              "    .colab-df-convert:hover {\n",
              "      background-color: #E2EBFA;\n",
              "      box-shadow: 0px 1px 2px rgba(60, 64, 67, 0.3), 0px 1px 3px 1px rgba(60, 64, 67, 0.15);\n",
              "      fill: #174EA6;\n",
              "    }\n",
              "\n",
              "    [theme=dark] .colab-df-convert {\n",
              "      background-color: #3B4455;\n",
              "      fill: #D2E3FC;\n",
              "    }\n",
              "\n",
              "    [theme=dark] .colab-df-convert:hover {\n",
              "      background-color: #434B5C;\n",
              "      box-shadow: 0px 1px 3px 1px rgba(0, 0, 0, 0.15);\n",
              "      filter: drop-shadow(0px 1px 2px rgba(0, 0, 0, 0.3));\n",
              "      fill: #FFFFFF;\n",
              "    }\n",
              "  </style>\n",
              "\n",
              "      <script>\n",
              "        const buttonEl =\n",
              "          document.querySelector('#df-54c2def9-b3b8-4864-93ab-923f9391f3ce button.colab-df-convert');\n",
              "        buttonEl.style.display =\n",
              "          google.colab.kernel.accessAllowed ? 'block' : 'none';\n",
              "\n",
              "        async function convertToInteractive(key) {\n",
              "          const element = document.querySelector('#df-54c2def9-b3b8-4864-93ab-923f9391f3ce');\n",
              "          const dataTable =\n",
              "            await google.colab.kernel.invokeFunction('convertToInteractive',\n",
              "                                                     [key], {});\n",
              "          if (!dataTable) return;\n",
              "\n",
              "          const docLinkHtml = 'Like what you see? Visit the ' +\n",
              "            '<a target=\"_blank\" href=https://colab.research.google.com/notebooks/data_table.ipynb>data table notebook</a>'\n",
              "            + ' to learn more about interactive tables.';\n",
              "          element.innerHTML = '';\n",
              "          dataTable['output_type'] = 'display_data';\n",
              "          await google.colab.output.renderOutput(dataTable, element);\n",
              "          const docLink = document.createElement('div');\n",
              "          docLink.innerHTML = docLinkHtml;\n",
              "          element.appendChild(docLink);\n",
              "        }\n",
              "      </script>\n",
              "    </div>\n",
              "  </div>\n",
              "  "
            ]
          },
          "metadata": {},
          "execution_count": 36
        }
      ]
    },
    {
      "cell_type": "code",
      "source": [
        "# # Take the marital status categorical column and convert it into integer\n",
        "new_df = pd.get_dummies(new_df)\n",
        "new_df.head()"
      ],
      "metadata": {
        "colab": {
          "base_uri": "https://localhost:8080/",
          "height": 206
        },
        "id": "pupM-BE4oxTe",
        "outputId": "50c9bf17-4930-496c-d54d-ab9e2ee0131a"
      },
      "execution_count": null,
      "outputs": [
        {
          "output_type": "execute_result",
          "data": {
            "text/plain": [
              "   store_sales(in millions)  marital_status_M  marital_status_S\n",
              "0                      7.36                 1                 0\n",
              "1                      5.52                 1                 0\n",
              "2                      3.68                 0                 1\n",
              "3                      3.68                 1                 0\n",
              "4                      4.08                 1                 0"
            ],
            "text/html": [
              "\n",
              "  <div id=\"df-9f8a8a1c-bad4-4c13-92bc-bf84155e4dce\">\n",
              "    <div class=\"colab-df-container\">\n",
              "      <div>\n",
              "<style scoped>\n",
              "    .dataframe tbody tr th:only-of-type {\n",
              "        vertical-align: middle;\n",
              "    }\n",
              "\n",
              "    .dataframe tbody tr th {\n",
              "        vertical-align: top;\n",
              "    }\n",
              "\n",
              "    .dataframe thead th {\n",
              "        text-align: right;\n",
              "    }\n",
              "</style>\n",
              "<table border=\"1\" class=\"dataframe\">\n",
              "  <thead>\n",
              "    <tr style=\"text-align: right;\">\n",
              "      <th></th>\n",
              "      <th>store_sales(in millions)</th>\n",
              "      <th>marital_status_M</th>\n",
              "      <th>marital_status_S</th>\n",
              "    </tr>\n",
              "  </thead>\n",
              "  <tbody>\n",
              "    <tr>\n",
              "      <th>0</th>\n",
              "      <td>7.36</td>\n",
              "      <td>1</td>\n",
              "      <td>0</td>\n",
              "    </tr>\n",
              "    <tr>\n",
              "      <th>1</th>\n",
              "      <td>5.52</td>\n",
              "      <td>1</td>\n",
              "      <td>0</td>\n",
              "    </tr>\n",
              "    <tr>\n",
              "      <th>2</th>\n",
              "      <td>3.68</td>\n",
              "      <td>0</td>\n",
              "      <td>1</td>\n",
              "    </tr>\n",
              "    <tr>\n",
              "      <th>3</th>\n",
              "      <td>3.68</td>\n",
              "      <td>1</td>\n",
              "      <td>0</td>\n",
              "    </tr>\n",
              "    <tr>\n",
              "      <th>4</th>\n",
              "      <td>4.08</td>\n",
              "      <td>1</td>\n",
              "      <td>0</td>\n",
              "    </tr>\n",
              "  </tbody>\n",
              "</table>\n",
              "</div>\n",
              "      <button class=\"colab-df-convert\" onclick=\"convertToInteractive('df-9f8a8a1c-bad4-4c13-92bc-bf84155e4dce')\"\n",
              "              title=\"Convert this dataframe to an interactive table.\"\n",
              "              style=\"display:none;\">\n",
              "        \n",
              "  <svg xmlns=\"http://www.w3.org/2000/svg\" height=\"24px\"viewBox=\"0 0 24 24\"\n",
              "       width=\"24px\">\n",
              "    <path d=\"M0 0h24v24H0V0z\" fill=\"none\"/>\n",
              "    <path d=\"M18.56 5.44l.94 2.06.94-2.06 2.06-.94-2.06-.94-.94-2.06-.94 2.06-2.06.94zm-11 1L8.5 8.5l.94-2.06 2.06-.94-2.06-.94L8.5 2.5l-.94 2.06-2.06.94zm10 10l.94 2.06.94-2.06 2.06-.94-2.06-.94-.94-2.06-.94 2.06-2.06.94z\"/><path d=\"M17.41 7.96l-1.37-1.37c-.4-.4-.92-.59-1.43-.59-.52 0-1.04.2-1.43.59L10.3 9.45l-7.72 7.72c-.78.78-.78 2.05 0 2.83L4 21.41c.39.39.9.59 1.41.59.51 0 1.02-.2 1.41-.59l7.78-7.78 2.81-2.81c.8-.78.8-2.07 0-2.86zM5.41 20L4 18.59l7.72-7.72 1.47 1.35L5.41 20z\"/>\n",
              "  </svg>\n",
              "      </button>\n",
              "      \n",
              "  <style>\n",
              "    .colab-df-container {\n",
              "      display:flex;\n",
              "      flex-wrap:wrap;\n",
              "      gap: 12px;\n",
              "    }\n",
              "\n",
              "    .colab-df-convert {\n",
              "      background-color: #E8F0FE;\n",
              "      border: none;\n",
              "      border-radius: 50%;\n",
              "      cursor: pointer;\n",
              "      display: none;\n",
              "      fill: #1967D2;\n",
              "      height: 32px;\n",
              "      padding: 0 0 0 0;\n",
              "      width: 32px;\n",
              "    }\n",
              "\n",
              "    .colab-df-convert:hover {\n",
              "      background-color: #E2EBFA;\n",
              "      box-shadow: 0px 1px 2px rgba(60, 64, 67, 0.3), 0px 1px 3px 1px rgba(60, 64, 67, 0.15);\n",
              "      fill: #174EA6;\n",
              "    }\n",
              "\n",
              "    [theme=dark] .colab-df-convert {\n",
              "      background-color: #3B4455;\n",
              "      fill: #D2E3FC;\n",
              "    }\n",
              "\n",
              "    [theme=dark] .colab-df-convert:hover {\n",
              "      background-color: #434B5C;\n",
              "      box-shadow: 0px 1px 3px 1px rgba(0, 0, 0, 0.15);\n",
              "      filter: drop-shadow(0px 1px 2px rgba(0, 0, 0, 0.3));\n",
              "      fill: #FFFFFF;\n",
              "    }\n",
              "  </style>\n",
              "\n",
              "      <script>\n",
              "        const buttonEl =\n",
              "          document.querySelector('#df-9f8a8a1c-bad4-4c13-92bc-bf84155e4dce button.colab-df-convert');\n",
              "        buttonEl.style.display =\n",
              "          google.colab.kernel.accessAllowed ? 'block' : 'none';\n",
              "\n",
              "        async function convertToInteractive(key) {\n",
              "          const element = document.querySelector('#df-9f8a8a1c-bad4-4c13-92bc-bf84155e4dce');\n",
              "          const dataTable =\n",
              "            await google.colab.kernel.invokeFunction('convertToInteractive',\n",
              "                                                     [key], {});\n",
              "          if (!dataTable) return;\n",
              "\n",
              "          const docLinkHtml = 'Like what you see? Visit the ' +\n",
              "            '<a target=\"_blank\" href=https://colab.research.google.com/notebooks/data_table.ipynb>data table notebook</a>'\n",
              "            + ' to learn more about interactive tables.';\n",
              "          element.innerHTML = '';\n",
              "          dataTable['output_type'] = 'display_data';\n",
              "          await google.colab.output.renderOutput(dataTable, element);\n",
              "          const docLink = document.createElement('div');\n",
              "          docLink.innerHTML = docLinkHtml;\n",
              "          element.appendChild(docLink);\n",
              "        }\n",
              "      </script>\n",
              "    </div>\n",
              "  </div>\n",
              "  "
            ]
          },
          "metadata": {},
          "execution_count": 37
        }
      ]
    },
    {
      "cell_type": "code",
      "source": [
        "# Using the store sales\n",
        "x_cl = new_df[\"store_sales(in millions)\"].values\n",
        "y_cl = np.squeeze(pd.get_dummies(df[\"marital_status\"], drop_first=True).values)\n",
        "x_cl, y_cl"
      ],
      "metadata": {
        "colab": {
          "base_uri": "https://localhost:8080/"
        },
        "id": "dODVN8ivRMhB",
        "outputId": "e051b972-9290-4009-d0fc-d64c1c74c6e5"
      },
      "execution_count": null,
      "outputs": [
        {
          "output_type": "execute_result",
          "data": {
            "text/plain": [
              "(array([7.36, 5.52, 3.68, ..., 5.52, 8.28, 9.2 ]),\n",
              " array([0, 0, 1, ..., 0, 1, 1], dtype=uint8))"
            ]
          },
          "metadata": {},
          "execution_count": 39
        }
      ]
    },
    {
      "cell_type": "markdown",
      "source": [
        "## Create Train Test dataset"
      ],
      "metadata": {
        "id": "PvJdw2-4hnGF"
      }
    },
    {
      "cell_type": "code",
      "source": [
        "# Create the train and test dataset\n",
        "x_train_cl, x_test_cl, y_train_cl, y_test_cl = train_test_split(x_cl, y_cl,\n",
        "                                                                            train_size=0.8,\n",
        "                                                                            test_size=0.2,\n",
        "                                                                            random_state=42 ) #for producing the same dataset to contorl data leakage\n",
        ""
      ],
      "metadata": {
        "id": "h7bmjvpXfADY"
      },
      "execution_count": null,
      "outputs": []
    },
    {
      "cell_type": "code",
      "source": [
        "# Reshape 1D data to 2D\n",
        "x_train_cl = x_train_cl.reshape(-1,1)\n",
        "y_train_cl = y_train_cl.reshape(-1,1)\n",
        "x_test_cl = x_test_cl.reshape(-1,1)\n",
        "y_test_cl = y_test_cl.reshape(-1,1)"
      ],
      "metadata": {
        "id": "yhrKVsMrxISu"
      },
      "execution_count": null,
      "outputs": []
    },
    {
      "cell_type": "code",
      "source": [
        "# check the shape of the dataset\n",
        "x_train_cl.shape , y_train_cl.shape, x_test_cl.shape, y_test_cl.shape"
      ],
      "metadata": {
        "colab": {
          "base_uri": "https://localhost:8080/"
        },
        "id": "xd5WWoIpPiMf",
        "outputId": "dc4523a6-f34d-4dc0-9972-2b952f17f216"
      },
      "execution_count": null,
      "outputs": [
        {
          "output_type": "execute_result",
          "data": {
            "text/plain": [
              "((48342, 1), (48342, 1), (12086, 1), (12086, 1))"
            ]
          },
          "metadata": {},
          "execution_count": 43
        }
      ]
    },
    {
      "cell_type": "markdown",
      "source": [
        "## Model"
      ],
      "metadata": {
        "id": "B_mKu1PywUBL"
      }
    },
    {
      "cell_type": "code",
      "source": [
        "from sklearn.linear_model import LogisticRegression\n",
        "# Fit the model\n",
        "clf_lr = LogisticRegression(random_state=0).fit(x_train_cl, y_train_cl)"
      ],
      "metadata": {
        "colab": {
          "base_uri": "https://localhost:8080/"
        },
        "id": "4E4zwR0UueK8",
        "outputId": "e2e0e866-bbb8-4988-b01d-b06cdb1cbd99"
      },
      "execution_count": null,
      "outputs": [
        {
          "output_type": "stream",
          "name": "stderr",
          "text": [
            "/usr/local/lib/python3.10/dist-packages/sklearn/utils/validation.py:1143: DataConversionWarning: A column-vector y was passed when a 1d array was expected. Please change the shape of y to (n_samples, ), for example using ravel().\n",
            "  y = column_or_1d(y, warn=True)\n"
          ]
        }
      ]
    },
    {
      "cell_type": "code",
      "source": [
        "# Predict\n",
        "preds_log_r = clf_lr.predict(x_test_cl)\n",
        "preds_log_r"
      ],
      "metadata": {
        "colab": {
          "base_uri": "https://localhost:8080/"
        },
        "id": "jjv0met2w9JY",
        "outputId": "4d689d38-e9c8-4438-ac41-18c450cb706f"
      },
      "execution_count": null,
      "outputs": [
        {
          "output_type": "execute_result",
          "data": {
            "text/plain": [
              "array([1, 0, 1, ..., 1, 0, 0], dtype=uint8)"
            ]
          },
          "metadata": {},
          "execution_count": 55
        }
      ]
    },
    {
      "cell_type": "code",
      "source": [
        "y_test_cl.shape, preds_log_r.shape"
      ],
      "metadata": {
        "colab": {
          "base_uri": "https://localhost:8080/"
        },
        "id": "yoTRi9C4_EdG",
        "outputId": "c270a5b4-782d-41a0-ee03-8d72e8a47797"
      },
      "execution_count": null,
      "outputs": [
        {
          "output_type": "execute_result",
          "data": {
            "text/plain": [
              "((12086, 1), (12086,))"
            ]
          },
          "metadata": {},
          "execution_count": 56
        }
      ]
    },
    {
      "cell_type": "code",
      "source": [
        "# lets find the residual\n",
        "residual_log_r = (np.squeeze(y_test_cl) - preds_log_r)\n",
        "residual_log_r"
      ],
      "metadata": {
        "colab": {
          "base_uri": "https://localhost:8080/"
        },
        "id": "LaU7sZNix5ib",
        "outputId": "3d1c8761-4767-4828-a310-e8a7cd528064"
      },
      "execution_count": null,
      "outputs": [
        {
          "output_type": "execute_result",
          "data": {
            "text/plain": [
              "array([0, 1, 0, ..., 0, 1, 0], dtype=uint8)"
            ]
          },
          "metadata": {},
          "execution_count": 57
        }
      ]
    },
    {
      "cell_type": "markdown",
      "source": [
        "## Calculate Evaluation metrics"
      ],
      "metadata": {
        "id": "n4nHsP0o_UTC"
      }
    },
    {
      "cell_type": "code",
      "source": [
        "from sklearn.metrics import accuracy_score, precision_score, recall_score, f1_score"
      ],
      "metadata": {
        "id": "JXSY6CEK_T7a"
      },
      "execution_count": null,
      "outputs": []
    },
    {
      "cell_type": "code",
      "source": [
        "def calculate_eval_metrics(test_set, prediction):\n",
        "  # Calculate evaluation metrics\n",
        "  accuracy = accuracy_score(test_set, prediction)\n",
        "  precision  = precision_score(test_set, prediction)\n",
        "  recall  = recall_score(test_set, prediction)\n",
        "  f1  = f1_score(test_set, prediction)\n",
        "\n",
        "  # Print evaluation metrics\n",
        "  print('Accuracy:', accuracy)\n",
        "  print('Precision:', precision)\n",
        "  print('Recall:', recall)\n",
        "  print('F1-score:', f1)\n",
        "  return accuracy, precision, recall, f1"
      ],
      "metadata": {
        "id": "xZvAz4qfngRR"
      },
      "execution_count": null,
      "outputs": []
    },
    {
      "cell_type": "code",
      "source": [
        "# Calculate evaluation metrics\n",
        "accuracy_log_r, precision_log_r, recall_log_r, f1_log_r = calculate_eval_metrics(y_test_cl, preds_log_r)"
      ],
      "metadata": {
        "colab": {
          "base_uri": "https://localhost:8080/"
        },
        "id": "UowRXbXz-6e7",
        "outputId": "2b00ab3b-9473-46e7-b96f-4ef0b49c5cd2"
      },
      "execution_count": null,
      "outputs": [
        {
          "output_type": "stream",
          "name": "stdout",
          "text": [
            "Accuracy: 0.4986761542280324\n",
            "Precision: 0.5001747640685075\n",
            "Recall: 0.708182118112834\n",
            "F1-score: 0.5862751792420621\n"
          ]
        }
      ]
    },
    {
      "cell_type": "code",
      "source": [
        "# Plot the results\n",
        "fig, ax = plt.subplots()\n",
        "metrics = ['Accuracy', 'Precision', 'Recall', 'F1 Score']\n",
        "values = [accuracy_log_r , precision_log_r , recall_log_r , f1_log_r ]\n",
        "ax.bar(metrics, values)\n",
        "ax.set_ylim([0, 1])\n",
        "ax.set_ylabel('Score')\n",
        "ax.set_title('Evaluation Metrics')\n",
        "plt.show()"
      ],
      "metadata": {
        "colab": {
          "base_uri": "https://localhost:8080/",
          "height": 452
        },
        "id": "w6nHrS0A_8hw",
        "outputId": "ab0103e8-82b0-4eee-d6e0-e7cb7b23cb99"
      },
      "execution_count": null,
      "outputs": [
        {
          "output_type": "display_data",
          "data": {
            "text/plain": [
              "<Figure size 640x480 with 1 Axes>"
            ],
            "image/png": "[encoded data removed]"
          },
          "metadata": {}
        }
      ]
    },
    {
      "cell_type": "markdown",
      "source": [
        "## Threshold value to maximize accuracy"
      ],
      "metadata": {
        "id": "UTjeGfyeBOmA"
      }
    },
    {
      "cell_type": "code",
      "source": [
        "# Get predicted probabilities for positive class\n",
        "probs = clf_lr.predict_proba(x_test_cl)[:, 1]\n",
        "\n",
        "# Loop through different threshold values and compute recall and F1 score for each\n",
        "f1_scores = []\n",
        "recall_scores = []\n",
        "for threshold in np.arange(0, 1.1, 0.1):\n",
        "    preds = (probs >= threshold).astype(int)\n",
        "    recall = recall_score(y_test_cl, preds)\n",
        "    f1 = f1_score(y_test_cl, preds)\n",
        "    recall_scores.append(recall)\n",
        "    f1_scores.append(f1)\n",
        "\n",
        "# Find threshold index that maximizes recall and F1 score\n",
        "max_f1_index = np.argmax(f1_scores)\n",
        "max_recall_index = np.argmax(recall_scores)\n",
        "\n",
        "# Find threshold value that maximizes recall and F1 score\n",
        "optimal_threshold_f1 = max_f1_index * 0.1\n",
        "optimal_threshold_recall = max_recall_index * 0.1"
      ],
      "metadata": {
        "id": "3Z9ASF2uAqlg"
      },
      "execution_count": null,
      "outputs": []
    },
    {
      "cell_type": "code",
      "source": [
        "# Create a figure with two subplots\n",
        "fig, (ax1, ax2) = plt.subplots(2, 1, figsize=(8, 10))\n",
        "\n",
        "# Plot F1 scores\n",
        "ax1.plot(np.arange(0, 1.1, 0.1), f1_scores)\n",
        "ax1.set_title('F1 Score vs. Threshold')\n",
        "ax1.set_xlabel('Threshold')\n",
        "ax1.set_ylabel('F1 Score')\n",
        "ax1.axvline(x=optimal_threshold_f1, color='r', linestyle='--', label='Optimal Threshold')\n",
        "ax1.legend()\n",
        "\n",
        "# Plot recall scores\n",
        "ax2.plot(np.arange(0, 1.1, 0.1), recall_scores)\n",
        "ax2.set_title('Recall vs. Threshold')\n",
        "ax2.set_xlabel('Threshold')\n",
        "ax2.set_ylabel('Recall')\n",
        "ax2.axvline(x=optimal_threshold_recall, color='r', linestyle='--', label='Optimal Threshold')\n",
        "ax2.legend()\n",
        "\n",
        "plt.tight_layout()\n",
        "plt.show()\n"
      ],
      "metadata": {
        "colab": {
          "base_uri": "https://localhost:8080/",
          "height": 1000
        },
        "id": "o_STu0xAC8x0",
        "outputId": "172539ac-286d-4705-fb3f-cb4e681e6c3d"
      },
      "execution_count": null,
      "outputs": [
        {
          "output_type": "display_data",
          "data": {
            "text/plain": [
              "<Figure size 800x1000 with 2 Axes>"
            ],
            "image/png": "[encoded data removed]"
          },
          "metadata": {}
        }
      ]
    },
    {
      "cell_type": "markdown",
      "source": [
        "**For f1-score we can see that threshold value <= 0.4 maximize the f1-score to 65% and For recall we can see that threshold value <= 0.4 maximize the recall to 100%**"
      ],
      "metadata": {
        "id": "Dy4A4VRyJCLc"
      }
    },
    {
      "cell_type": "markdown",
      "source": [
        "# Final Assignment"
      ],
      "metadata": {
        "id": "nxAjDA36pnvl"
      }
    },
    {
      "cell_type": "markdown",
      "source": [
        "## Train_test-split"
      ],
      "metadata": {
        "id": "9rIVHOUupxBA"
      }
    },
    {
      "cell_type": "code",
      "source": [
        "# Import the library\n",
        "from sklearn.model_selection import train_test_split"
      ],
      "metadata": {
        "id": "7Y6Hq6mapv5q"
      },
      "execution_count": null,
      "outputs": []
    },
    {
      "cell_type": "code",
      "source": [
        "# Create the train and test dataset\n",
        "x_train, x_test, y_train, y_test = train_test_split(x, y,\n",
        "                                                    train_size=0.8,\n",
        "                                                    test_size=0.2,\n",
        "                                                    random_state=42 ) #for producing the same dataset to contorl data leakage\n",
        ""
      ],
      "metadata": {
        "id": "uQbKtqKcp6Zb"
      },
      "execution_count": null,
      "outputs": []
    },
    {
      "cell_type": "code",
      "source": [
        "# check the shape of the dataset\n",
        "x_train.shape , y_train.shape, x_test.shape, y_test.shape"
      ],
      "metadata": {
        "colab": {
          "base_uri": "https://localhost:8080/"
        },
        "id": "M6gwF8xhp8hJ",
        "outputId": "7c1fe4a8-2477-4602-be56-b54798608f84"
      },
      "execution_count": null,
      "outputs": [
        {
          "output_type": "execute_result",
          "data": {
            "text/plain": [
              "((48342,), (48342,), (12086,), (12086,))"
            ]
          },
          "metadata": {},
          "execution_count": 76
        }
      ]
    },
    {
      "cell_type": "code",
      "source": [
        "# Reshape 1D data to 2D\n",
        "x_train = x_train.reshape(-1,1)\n",
        "y_train = y_train.reshape(-1,1)\n",
        "x_test = x_test.reshape(-1,1)\n",
        "y_test = y_test.reshape(-1,1)\n",
        "x_train.shape, y_train.shape, x_test.shape, y_test.shape"
      ],
      "metadata": {
        "colab": {
          "base_uri": "https://localhost:8080/"
        },
        "id": "iXcrT_1CqIY7",
        "outputId": "67ab3008-9144-4775-f92c-79cf0afc3bfc"
      },
      "execution_count": null,
      "outputs": [
        {
          "output_type": "execute_result",
          "data": {
            "text/plain": [
              "((48342, 1), (48342, 1), (12086, 1), (12086, 1))"
            ]
          },
          "metadata": {},
          "execution_count": 77
        }
      ]
    },
    {
      "cell_type": "markdown",
      "source": [
        "## Linear Regression"
      ],
      "metadata": {
        "id": "FnuaFccfqTEs"
      }
    },
    {
      "cell_type": "code",
      "source": [
        "# Import the library\n",
        "from sklearn.linear_model import LinearRegression\n",
        "# Call and fit the model\n",
        "lr = LinearRegression()\n",
        "lr.fit(x_train, y_train)"
      ],
      "metadata": {
        "colab": {
          "base_uri": "https://localhost:8080/",
          "height": 74
        },
        "id": "PbZxhTLdqSmq",
        "outputId": "c38a0585-f248-49b9-881e-15ba63d8d281"
      },
      "execution_count": null,
      "outputs": [
        {
          "output_type": "execute_result",
          "data": {
            "text/plain": [
              "LinearRegression()"
            ],
            "text/html": [
              "<style>#sk-container-id-4 {color: black;background-color: white;}#sk-container-id-4 pre{padding: 0;}#sk-container-id-4 div.sk-toggleable {background-color: white;}#sk-container-id-4 label.sk-toggleable__label {cursor: pointer;display: block;width: 100%;margin-bottom: 0;padding: 0.3em;box-sizing: border-box;text-align: center;}#sk-container-id-4 label.sk-toggleable__label-arrow:before {content: \"▸\";float: left;margin-right: 0.25em;color: #696969;}#sk-container-id-4 label.sk-toggleable__label-arrow:hover:before {color: black;}#sk-container-id-4 div.sk-estimator:hover label.sk-toggleable__label-arrow:before {color: black;}#sk-container-id-4 div.sk-toggleable__content {max-height: 0;max-width: 0;overflow: hidden;text-align: left;background-color: #f0f8ff;}#sk-container-id-4 div.sk-toggleable__content pre {margin: 0.2em;color: black;border-radius: 0.25em;background-color: #f0f8ff;}#sk-container-id-4 input.sk-toggleable__control:checked~div.sk-toggleable__content {max-height: 200px;max-width: 100%;overflow: auto;}#sk-container-id-4 input.sk-toggleable__control:checked~label.sk-toggleable__label-arrow:before {content: \"▾\";}#sk-container-id-4 div.sk-estimator input.sk-toggleable__control:checked~label.sk-toggleable__label {background-color: #d4ebff;}#sk-container-id-4 div.sk-label input.sk-toggleable__control:checked~label.sk-toggleable__label {background-color: #d4ebff;}#sk-container-id-4 input.sk-hidden--visually {border: 0;clip: rect(1px 1px 1px 1px);clip: rect(1px, 1px, 1px, 1px);height: 1px;margin: -1px;overflow: hidden;padding: 0;position: absolute;width: 1px;}#sk-container-id-4 div.sk-estimator {font-family: monospace;background-color: #f0f8ff;border: 1px dotted black;border-radius: 0.25em;box-sizing: border-box;margin-bottom: 0.5em;}#sk-container-id-4 div.sk-estimator:hover {background-color: #d4ebff;}#sk-container-id-4 div.sk-parallel-item::after {content: \"\";width: 100%;border-bottom: 1px solid gray;flex-grow: 1;}#sk-container-id-4 div.sk-label:hover label.sk-toggleable__label {background-color: #d4ebff;}#sk-container-id-4 div.sk-serial::before {content: \"\";position: absolute;border-left: 1px solid gray;box-sizing: border-box;top: 0;bottom: 0;left: 50%;z-index: 0;}#sk-container-id-4 div.sk-serial {display: flex;flex-direction: column;align-items: center;background-color: white;padding-right: 0.2em;padding-left: 0.2em;position: relative;}#sk-container-id-4 div.sk-item {position: relative;z-index: 1;}#sk-container-id-4 div.sk-parallel {display: flex;align-items: stretch;justify-content: center;background-color: white;position: relative;}#sk-container-id-4 div.sk-item::before, #sk-container-id-4 div.sk-parallel-item::before {content: \"\";position: absolute;border-left: 1px solid gray;box-sizing: border-box;top: 0;bottom: 0;left: 50%;z-index: -1;}#sk-container-id-4 div.sk-parallel-item {display: flex;flex-direction: column;z-index: 1;position: relative;background-color: white;}#sk-container-id-4 div.sk-parallel-item:first-child::after {align-self: flex-end;width: 50%;}#sk-container-id-4 div.sk-parallel-item:last-child::after {align-self: flex-start;width: 50%;}#sk-container-id-4 div.sk-parallel-item:only-child::after {width: 0;}#sk-container-id-4 div.sk-dashed-wrapped {border: 1px dashed gray;margin: 0 0.4em 0.5em 0.4em;box-sizing: border-box;padding-bottom: 0.4em;background-color: white;}#sk-container-id-4 div.sk-label label {font-family: monospace;font-weight: bold;display: inline-block;line-height: 1.2em;}#sk-container-id-4 div.sk-label-container {text-align: center;}#sk-container-id-4 div.sk-container {/* jupyter's `normalize.less` sets `[hidden] { display: none; }` but bootstrap.min.css set `[hidden] { display: none !important; }` so we also need the `!important` here to be able to override the default hidden behavior on the sphinx rendered scikit-learn.org. See: https://github.com/scikit-learn/scikit-learn/issues/21755 */display: inline-block !important;position: relative;}#sk-container-id-4 div.sk-text-repr-fallback {display: none;}</style><div id=\"sk-container-id-4\" class=\"sk-top-container\"><div class=\"sk-text-repr-fallback\"><pre>LinearRegression()</pre><b>In a Jupyter environment, please rerun this cell to show the HTML representation or trust the notebook. <br />On GitHub, the HTML representation is unable to render, please try loading this page with nbviewer.org.</b></div><div class=\"sk-container\" hidden><div class=\"sk-item\"><div class=\"sk-estimator sk-toggleable\"><input class=\"sk-toggleable__control sk-hidden--visually\" id=\"sk-estimator-id-4\" type=\"checkbox\" checked><label for=\"sk-estimator-id-4\" class=\"sk-toggleable__label sk-toggleable__label-arrow\">LinearRegression</label><div class=\"sk-toggleable__content\"><pre>LinearRegression()</pre></div></div></div></div></div>"
            ]
          },
          "metadata": {},
          "execution_count": 78
        }
      ]
    },
    {
      "cell_type": "code",
      "source": [
        "# Predict on test dataset\n",
        "preds_lr = lr.predict(x_test)\n",
        "preds_lr"
      ],
      "metadata": {
        "colab": {
          "base_uri": "https://localhost:8080/"
        },
        "id": "I5zdLrIHqz71",
        "outputId": "79473fe4-2cbe-4236-c7e7-9f9a0485fd56"
      },
      "execution_count": null,
      "outputs": [
        {
          "output_type": "execute_result",
          "data": {
            "text/plain": [
              "array([[ 6.91260303],\n",
              "       [ 8.30762279],\n",
              "       [ 6.02535954],\n",
              "       ...,\n",
              "       [ 4.96476233],\n",
              "       [10.37421761],\n",
              "       [12.27428366]])"
            ]
          },
          "metadata": {},
          "execution_count": 82
        }
      ]
    },
    {
      "cell_type": "code",
      "source": [
        "from sklearn.metrics import r2_score, mean_squared_error, mean_absolute_error\n",
        "# calculate mean squared error\n",
        "mse_lr = mean_squared_error(y_test, preds_lr)\n",
        "\n",
        "# calculate mean absolute error\n",
        "mae_lr = mean_absolute_error(y_test, preds_lr)\n",
        "\n",
        "# print the MSE and MAE\n",
        "print('MSE:', mse_lr)\n",
        "print('MAE:', mae_lr)"
      ],
      "metadata": {
        "colab": {
          "base_uri": "https://localhost:8080/"
        },
        "id": "1jkmvIyxrF-q",
        "outputId": "d2d9e0cf-ea8e-4d90-98c0-7fa15b0bb041"
      },
      "execution_count": null,
      "outputs": [
        {
          "output_type": "stream",
          "name": "stdout",
          "text": [
            "MSE: 1.074143573153282\n",
            "MAE: 0.7995742914974527\n"
          ]
        }
      ]
    },
    {
      "cell_type": "markdown",
      "source": [
        "## KNN regression"
      ],
      "metadata": {
        "id": "3hSOXBbjsJKW"
      }
    },
    {
      "cell_type": "code",
      "source": [
        "# Import the function\n",
        "from sklearn.neighbors import KNeighborsRegressor\n",
        "# Call and fit\n",
        "knn_reg = KNeighborsRegressor(n_neighbors=5)\n",
        "knn_reg.fit(x_train, y_train)"
      ],
      "metadata": {
        "colab": {
          "base_uri": "https://localhost:8080/",
          "height": 74
        },
        "id": "DAE3Z98FsMuu",
        "outputId": "e0f65a72-af84-4e23-83eb-31004d70dff9"
      },
      "execution_count": null,
      "outputs": [
        {
          "output_type": "execute_result",
          "data": {
            "text/plain": [
              "KNeighborsRegressor()"
            ],
            "text/html": [
              "<style>#sk-container-id-14 {color: black;background-color: white;}#sk-container-id-14 pre{padding: 0;}#sk-container-id-14 div.sk-toggleable {background-color: white;}#sk-container-id-14 label.sk-toggleable__label {cursor: pointer;display: block;width: 100%;margin-bottom: 0;padding: 0.3em;box-sizing: border-box;text-align: center;}#sk-container-id-14 label.sk-toggleable__label-arrow:before {content: \"▸\";float: left;margin-right: 0.25em;color: #696969;}#sk-container-id-14 label.sk-toggleable__label-arrow:hover:before {color: black;}#sk-container-id-14 div.sk-estimator:hover label.sk-toggleable__label-arrow:before {color: black;}#sk-container-id-14 div.sk-toggleable__content {max-height: 0;max-width: 0;overflow: hidden;text-align: left;background-color: #f0f8ff;}#sk-container-id-14 div.sk-toggleable__content pre {margin: 0.2em;color: black;border-radius: 0.25em;background-color: #f0f8ff;}#sk-container-id-14 input.sk-toggleable__control:checked~div.sk-toggleable__content {max-height: 200px;max-width: 100%;overflow: auto;}#sk-container-id-14 input.sk-toggleable__control:checked~label.sk-toggleable__label-arrow:before {content: \"▾\";}#sk-container-id-14 div.sk-estimator input.sk-toggleable__control:checked~label.sk-toggleable__label {background-color: #d4ebff;}#sk-container-id-14 div.sk-label input.sk-toggleable__control:checked~label.sk-toggleable__label {background-color: #d4ebff;}#sk-container-id-14 input.sk-hidden--visually {border: 0;clip: rect(1px 1px 1px 1px);clip: rect(1px, 1px, 1px, 1px);height: 1px;margin: -1px;overflow: hidden;padding: 0;position: absolute;width: 1px;}#sk-container-id-14 div.sk-estimator {font-family: monospace;background-color: #f0f8ff;border: 1px dotted black;border-radius: 0.25em;box-sizing: border-box;margin-bottom: 0.5em;}#sk-container-id-14 div.sk-estimator:hover {background-color: #d4ebff;}#sk-container-id-14 div.sk-parallel-item::after {content: \"\";width: 100%;border-bottom: 1px solid gray;flex-grow: 1;}#sk-container-id-14 div.sk-label:hover label.sk-toggleable__label {background-color: #d4ebff;}#sk-container-id-14 div.sk-serial::before {content: \"\";position: absolute;border-left: 1px solid gray;box-sizing: border-box;top: 0;bottom: 0;left: 50%;z-index: 0;}#sk-container-id-14 div.sk-serial {display: flex;flex-direction: column;align-items: center;background-color: white;padding-right: 0.2em;padding-left: 0.2em;position: relative;}#sk-container-id-14 div.sk-item {position: relative;z-index: 1;}#sk-container-id-14 div.sk-parallel {display: flex;align-items: stretch;justify-content: center;background-color: white;position: relative;}#sk-container-id-14 div.sk-item::before, #sk-container-id-14 div.sk-parallel-item::before {content: \"\";position: absolute;border-left: 1px solid gray;box-sizing: border-box;top: 0;bottom: 0;left: 50%;z-index: -1;}#sk-container-id-14 div.sk-parallel-item {display: flex;flex-direction: column;z-index: 1;position: relative;background-color: white;}#sk-container-id-14 div.sk-parallel-item:first-child::after {align-self: flex-end;width: 50%;}#sk-container-id-14 div.sk-parallel-item:last-child::after {align-self: flex-start;width: 50%;}#sk-container-id-14 div.sk-parallel-item:only-child::after {width: 0;}#sk-container-id-14 div.sk-dashed-wrapped {border: 1px dashed gray;margin: 0 0.4em 0.5em 0.4em;box-sizing: border-box;padding-bottom: 0.4em;background-color: white;}#sk-container-id-14 div.sk-label label {font-family: monospace;font-weight: bold;display: inline-block;line-height: 1.2em;}#sk-container-id-14 div.sk-label-container {text-align: center;}#sk-container-id-14 div.sk-container {/* jupyter's `normalize.less` sets `[hidden] { display: none; }` but bootstrap.min.css set `[hidden] { display: none !important; }` so we also need the `!important` here to be able to override the default hidden behavior on the sphinx rendered scikit-learn.org. See: https://github.com/scikit-learn/scikit-learn/issues/21755 */display: inline-block !important;position: relative;}#sk-container-id-14 div.sk-text-repr-fallback {display: none;}</style><div id=\"sk-container-id-14\" class=\"sk-top-container\"><div class=\"sk-text-repr-fallback\"><pre>KNeighborsRegressor()</pre><b>In a Jupyter environment, please rerun this cell to show the HTML representation or trust the notebook. <br />On GitHub, the HTML representation is unable to render, please try loading this page with nbviewer.org.</b></div><div class=\"sk-container\" hidden><div class=\"sk-item\"><div class=\"sk-estimator sk-toggleable\"><input class=\"sk-toggleable__control sk-hidden--visually\" id=\"sk-estimator-id-14\" type=\"checkbox\" checked><label for=\"sk-estimator-id-14\" class=\"sk-toggleable__label sk-toggleable__label-arrow\">KNeighborsRegressor</label><div class=\"sk-toggleable__content\"><pre>KNeighborsRegressor()</pre></div></div></div></div></div>"
            ]
          },
          "metadata": {},
          "execution_count": 130
        }
      ]
    },
    {
      "cell_type": "code",
      "source": [
        "# Predict on test dataset\n",
        "preds_knn_reg = knn_reg.predict(x_test)\n",
        "preds_knn_reg"
      ],
      "metadata": {
        "colab": {
          "base_uri": "https://localhost:8080/"
        },
        "id": "g_HSQHFYsUPX",
        "outputId": "7a893d6f-9cf2-4fcd-860d-246612a34069"
      },
      "execution_count": null,
      "outputs": [
        {
          "output_type": "execute_result",
          "data": {
            "text/plain": [
              "array([[ 7.888],\n",
              "       [ 8.94 ],\n",
              "       [ 6.32 ],\n",
              "       ...,\n",
              "       [ 5.454],\n",
              "       [10.552],\n",
              "       [14.952]])"
            ]
          },
          "metadata": {},
          "execution_count": 131
        }
      ]
    },
    {
      "cell_type": "code",
      "source": [
        "# calculate mean squared error\n",
        "mse_knn = mean_squared_error(y_test, preds_knn_reg)\n",
        "\n",
        "# calculate mean absolute error\n",
        "mae_knn = mean_absolute_error(y_test, preds_knn_reg)\n",
        "\n",
        "# print the MSE and MAE\n",
        "print('MSE:', mse_knn)\n",
        "print('MAE:', mae_knn)"
      ],
      "metadata": {
        "colab": {
          "base_uri": "https://localhost:8080/"
        },
        "id": "7WFj2ZUjsr-h",
        "outputId": "3133682d-a093-4775-caf4-eea009ceade5"
      },
      "execution_count": null,
      "outputs": [
        {
          "output_type": "stream",
          "name": "stdout",
          "text": [
            "MSE: 0.8258787165315241\n",
            "MAE: 0.5859046831044183\n"
          ]
        }
      ]
    },
    {
      "cell_type": "markdown",
      "source": [
        "## Decision Tree"
      ],
      "metadata": {
        "id": "Axwl3tqncQKn"
      }
    },
    {
      "cell_type": "code",
      "source": [
        "# import the libaries\n",
        "from sklearn import tree"
      ],
      "metadata": {
        "id": "kDgJacA9Q_k7"
      },
      "execution_count": null,
      "outputs": []
    },
    {
      "cell_type": "code",
      "source": [
        "# fit the model\n",
        "dt_reg = clf = tree.DecisionTreeRegressor()\n",
        "dt_reg.fit(x_train, y_train)"
      ],
      "metadata": {
        "colab": {
          "base_uri": "https://localhost:8080/",
          "height": 74
        },
        "id": "p-Fgm-v3mE0E",
        "outputId": "5effb183-18e4-4ecf-985a-115bc523b64b"
      },
      "execution_count": null,
      "outputs": [
        {
          "output_type": "execute_result",
          "data": {
            "text/plain": [
              "DecisionTreeRegressor()"
            ],
            "text/html": [
              "<style>#sk-container-id-23 {color: black;background-color: white;}#sk-container-id-23 pre{padding: 0;}#sk-container-id-23 div.sk-toggleable {background-color: white;}#sk-container-id-23 label.sk-toggleable__label {cursor: pointer;display: block;width: 100%;margin-bottom: 0;padding: 0.3em;box-sizing: border-box;text-align: center;}#sk-container-id-23 label.sk-toggleable__label-arrow:before {content: \"▸\";float: left;margin-right: 0.25em;color: #696969;}#sk-container-id-23 label.sk-toggleable__label-arrow:hover:before {color: black;}#sk-container-id-23 div.sk-estimator:hover label.sk-toggleable__label-arrow:before {color: black;}#sk-container-id-23 div.sk-toggleable__content {max-height: 0;max-width: 0;overflow: hidden;text-align: left;background-color: #f0f8ff;}#sk-container-id-23 div.sk-toggleable__content pre {margin: 0.2em;color: black;border-radius: 0.25em;background-color: #f0f8ff;}#sk-container-id-23 input.sk-toggleable__control:checked~div.sk-toggleable__content {max-height: 200px;max-width: 100%;overflow: auto;}#sk-container-id-23 input.sk-toggleable__control:checked~label.sk-toggleable__label-arrow:before {content: \"▾\";}#sk-container-id-23 div.sk-estimator input.sk-toggleable__control:checked~label.sk-toggleable__label {background-color: #d4ebff;}#sk-container-id-23 div.sk-label input.sk-toggleable__control:checked~label.sk-toggleable__label {background-color: #d4ebff;}#sk-container-id-23 input.sk-hidden--visually {border: 0;clip: rect(1px 1px 1px 1px);clip: rect(1px, 1px, 1px, 1px);height: 1px;margin: -1px;overflow: hidden;padding: 0;position: absolute;width: 1px;}#sk-container-id-23 div.sk-estimator {font-family: monospace;background-color: #f0f8ff;border: 1px dotted black;border-radius: 0.25em;box-sizing: border-box;margin-bottom: 0.5em;}#sk-container-id-23 div.sk-estimator:hover {background-color: #d4ebff;}#sk-container-id-23 div.sk-parallel-item::after {content: \"\";width: 100%;border-bottom: 1px solid gray;flex-grow: 1;}#sk-container-id-23 div.sk-label:hover label.sk-toggleable__label {background-color: #d4ebff;}#sk-container-id-23 div.sk-serial::before {content: \"\";position: absolute;border-left: 1px solid gray;box-sizing: border-box;top: 0;bottom: 0;left: 50%;z-index: 0;}#sk-container-id-23 div.sk-serial {display: flex;flex-direction: column;align-items: center;background-color: white;padding-right: 0.2em;padding-left: 0.2em;position: relative;}#sk-container-id-23 div.sk-item {position: relative;z-index: 1;}#sk-container-id-23 div.sk-parallel {display: flex;align-items: stretch;justify-content: center;background-color: white;position: relative;}#sk-container-id-23 div.sk-item::before, #sk-container-id-23 div.sk-parallel-item::before {content: \"\";position: absolute;border-left: 1px solid gray;box-sizing: border-box;top: 0;bottom: 0;left: 50%;z-index: -1;}#sk-container-id-23 div.sk-parallel-item {display: flex;flex-direction: column;z-index: 1;position: relative;background-color: white;}#sk-container-id-23 div.sk-parallel-item:first-child::after {align-self: flex-end;width: 50%;}#sk-container-id-23 div.sk-parallel-item:last-child::after {align-self: flex-start;width: 50%;}#sk-container-id-23 div.sk-parallel-item:only-child::after {width: 0;}#sk-container-id-23 div.sk-dashed-wrapped {border: 1px dashed gray;margin: 0 0.4em 0.5em 0.4em;box-sizing: border-box;padding-bottom: 0.4em;background-color: white;}#sk-container-id-23 div.sk-label label {font-family: monospace;font-weight: bold;display: inline-block;line-height: 1.2em;}#sk-container-id-23 div.sk-label-container {text-align: center;}#sk-container-id-23 div.sk-container {/* jupyter's `normalize.less` sets `[hidden] { display: none; }` but bootstrap.min.css set `[hidden] { display: none !important; }` so we also need the `!important` here to be able to override the default hidden behavior on the sphinx rendered scikit-learn.org. See: https://github.com/scikit-learn/scikit-learn/issues/21755 */display: inline-block !important;position: relative;}#sk-container-id-23 div.sk-text-repr-fallback {display: none;}</style><div id=\"sk-container-id-23\" class=\"sk-top-container\"><div class=\"sk-text-repr-fallback\"><pre>DecisionTreeRegressor()</pre><b>In a Jupyter environment, please rerun this cell to show the HTML representation or trust the notebook. <br />On GitHub, the HTML representation is unable to render, please try loading this page with nbviewer.org.</b></div><div class=\"sk-container\" hidden><div class=\"sk-item\"><div class=\"sk-estimator sk-toggleable\"><input class=\"sk-toggleable__control sk-hidden--visually\" id=\"sk-estimator-id-23\" type=\"checkbox\" checked><label for=\"sk-estimator-id-23\" class=\"sk-toggleable__label sk-toggleable__label-arrow\">DecisionTreeRegressor</label><div class=\"sk-toggleable__content\"><pre>DecisionTreeRegressor()</pre></div></div></div></div></div>"
            ]
          },
          "metadata": {},
          "execution_count": 157
        }
      ]
    },
    {
      "cell_type": "code",
      "source": [
        "# get the predict\n",
        "preds_dt_reg = dt_reg.predict(x_test)\n",
        "preds_dt_reg"
      ],
      "metadata": {
        "colab": {
          "base_uri": "https://localhost:8080/"
        },
        "id": "ICVf7LCgmqnp",
        "outputId": "05a4637c-13e4-4f77-bf82-1ecf084dffee"
      },
      "execution_count": null,
      "outputs": [
        {
          "output_type": "execute_result",
          "data": {
            "text/plain": [
              "array([ 7.13846154,  8.94      ,  6.41272727, ...,  5.31      ,\n",
              "       10.35785714, 14.84      ])"
            ]
          },
          "metadata": {},
          "execution_count": 158
        }
      ]
    },
    {
      "cell_type": "code",
      "source": [
        "# calculate mean squared error\n",
        "mse_dt = mean_squared_error(y_test, preds_dt_reg)\n",
        "\n",
        "# calculate mean absolute error\n",
        "mae_dt = mean_absolute_error(y_test, preds_dt_reg)\n",
        "\n",
        "# print the MSE and MAE\n",
        "print('MSE:', mse_dt)\n",
        "print('MAE:', mae_dt)"
      ],
      "metadata": {
        "colab": {
          "base_uri": "https://localhost:8080/"
        },
        "id": "864odNDSoXbg",
        "outputId": "a38e4f88-1cd8-4fd9-acd6-e632eb5aaef1"
      },
      "execution_count": null,
      "outputs": [
        {
          "output_type": "stream",
          "name": "stdout",
          "text": [
            "MSE: 0.6937087299826976\n",
            "MAE: 0.4678843261871297\n"
          ]
        }
      ]
    },
    {
      "cell_type": "markdown",
      "source": [
        "## Random Forest"
      ],
      "metadata": {
        "id": "hK4nNa54veti"
      }
    },
    {
      "cell_type": "code",
      "source": [
        "from sklearn.ensemble import RandomForestRegressor\n",
        "rand_f_reg = RandomForestRegressor(max_depth=25, random_state=0)\n",
        "rand_f_reg.fit(x_train, y_train)"
      ],
      "metadata": {
        "colab": {
          "base_uri": "https://localhost:8080/",
          "height": 129
        },
        "id": "q0eRTwuMu8RJ",
        "outputId": "f78ca40b-6020-46dc-ba37-793bdda0ceec"
      },
      "execution_count": null,
      "outputs": [
        {
          "output_type": "stream",
          "name": "stderr",
          "text": [
            "<ipython-input-175-f824bf5ba4eb>:3: DataConversionWarning: A column-vector y was passed when a 1d array was expected. Please change the shape of y to (n_samples,), for example using ravel().\n",
            "  rand_f_reg.fit(x_train, y_train)\n"
          ]
        },
        {
          "output_type": "execute_result",
          "data": {
            "text/plain": [
              "RandomForestRegressor(max_depth=25, random_state=0)"
            ],
            "text/html": [
              "<style>#sk-container-id-29 {color: black;background-color: white;}#sk-container-id-29 pre{padding: 0;}#sk-container-id-29 div.sk-toggleable {background-color: white;}#sk-container-id-29 label.sk-toggleable__label {cursor: pointer;display: block;width: 100%;margin-bottom: 0;padding: 0.3em;box-sizing: border-box;text-align: center;}#sk-container-id-29 label.sk-toggleable__label-arrow:before {content: \"▸\";float: left;margin-right: 0.25em;color: #696969;}#sk-container-id-29 label.sk-toggleable__label-arrow:hover:before {color: black;}#sk-container-id-29 div.sk-estimator:hover label.sk-toggleable__label-arrow:before {color: black;}#sk-container-id-29 div.sk-toggleable__content {max-height: 0;max-width: 0;overflow: hidden;text-align: left;background-color: #f0f8ff;}#sk-container-id-29 div.sk-toggleable__content pre {margin: 0.2em;color: black;border-radius: 0.25em;background-color: #f0f8ff;}#sk-container-id-29 input.sk-toggleable__control:checked~div.sk-toggleable__content {max-height: 200px;max-width: 100%;overflow: auto;}#sk-container-id-29 input.sk-toggleable__control:checked~label.sk-toggleable__label-arrow:before {content: \"▾\";}#sk-container-id-29 div.sk-estimator input.sk-toggleable__control:checked~label.sk-toggleable__label {background-color: #d4ebff;}#sk-container-id-29 div.sk-label input.sk-toggleable__control:checked~label.sk-toggleable__label {background-color: #d4ebff;}#sk-container-id-29 input.sk-hidden--visually {border: 0;clip: rect(1px 1px 1px 1px);clip: rect(1px, 1px, 1px, 1px);height: 1px;margin: -1px;overflow: hidden;padding: 0;position: absolute;width: 1px;}#sk-container-id-29 div.sk-estimator {font-family: monospace;background-color: #f0f8ff;border: 1px dotted black;border-radius: 0.25em;box-sizing: border-box;margin-bottom: 0.5em;}#sk-container-id-29 div.sk-estimator:hover {background-color: #d4ebff;}#sk-container-id-29 div.sk-parallel-item::after {content: \"\";width: 100%;border-bottom: 1px solid gray;flex-grow: 1;}#sk-container-id-29 div.sk-label:hover label.sk-toggleable__label {background-color: #d4ebff;}#sk-container-id-29 div.sk-serial::before {content: \"\";position: absolute;border-left: 1px solid gray;box-sizing: border-box;top: 0;bottom: 0;left: 50%;z-index: 0;}#sk-container-id-29 div.sk-serial {display: flex;flex-direction: column;align-items: center;background-color: white;padding-right: 0.2em;padding-left: 0.2em;position: relative;}#sk-container-id-29 div.sk-item {position: relative;z-index: 1;}#sk-container-id-29 div.sk-parallel {display: flex;align-items: stretch;justify-content: center;background-color: white;position: relative;}#sk-container-id-29 div.sk-item::before, #sk-container-id-29 div.sk-parallel-item::before {content: \"\";position: absolute;border-left: 1px solid gray;box-sizing: border-box;top: 0;bottom: 0;left: 50%;z-index: -1;}#sk-container-id-29 div.sk-parallel-item {display: flex;flex-direction: column;z-index: 1;position: relative;background-color: white;}#sk-container-id-29 div.sk-parallel-item:first-child::after {align-self: flex-end;width: 50%;}#sk-container-id-29 div.sk-parallel-item:last-child::after {align-self: flex-start;width: 50%;}#sk-container-id-29 div.sk-parallel-item:only-child::after {width: 0;}#sk-container-id-29 div.sk-dashed-wrapped {border: 1px dashed gray;margin: 0 0.4em 0.5em 0.4em;box-sizing: border-box;padding-bottom: 0.4em;background-color: white;}#sk-container-id-29 div.sk-label label {font-family: monospace;font-weight: bold;display: inline-block;line-height: 1.2em;}#sk-container-id-29 div.sk-label-container {text-align: center;}#sk-container-id-29 div.sk-container {/* jupyter's `normalize.less` sets `[hidden] { display: none; }` but bootstrap.min.css set `[hidden] { display: none !important; }` so we also need the `!important` here to be able to override the default hidden behavior on the sphinx rendered scikit-learn.org. See: https://github.com/scikit-learn/scikit-learn/issues/21755 */display: inline-block !important;position: relative;}#sk-container-id-29 div.sk-text-repr-fallback {display: none;}</style><div id=\"sk-container-id-29\" class=\"sk-top-container\"><div class=\"sk-text-repr-fallback\"><pre>RandomForestRegressor(max_depth=25, random_state=0)</pre><b>In a Jupyter environment, please rerun this cell to show the HTML representation or trust the notebook. <br />On GitHub, the HTML representation is unable to render, please try loading this page with nbviewer.org.</b></div><div class=\"sk-container\" hidden><div class=\"sk-item\"><div class=\"sk-estimator sk-toggleable\"><input class=\"sk-toggleable__control sk-hidden--visually\" id=\"sk-estimator-id-29\" type=\"checkbox\" checked><label for=\"sk-estimator-id-29\" class=\"sk-toggleable__label sk-toggleable__label-arrow\">RandomForestRegressor</label><div class=\"sk-toggleable__content\"><pre>RandomForestRegressor(max_depth=25, random_state=0)</pre></div></div></div></div></div>"
            ]
          },
          "metadata": {},
          "execution_count": 175
        }
      ]
    },
    {
      "cell_type": "code",
      "source": [
        "# get the predict\n",
        "preds_rand_f_reg = rand_f_reg.predict(x_test)\n",
        "preds_rand_f_reg"
      ],
      "metadata": {
        "colab": {
          "base_uri": "https://localhost:8080/"
        },
        "id": "ZyUqZuJSv38z",
        "outputId": "7daaa8a7-4b25-499a-9ac3-0bf61a13e032"
      },
      "execution_count": null,
      "outputs": [
        {
          "output_type": "execute_result",
          "data": {
            "text/plain": [
              "array([ 7.11043346,  8.90373515,  6.33381133, ...,  5.29844172,\n",
              "       10.34704489, 14.65971228])"
            ]
          },
          "metadata": {},
          "execution_count": 176
        }
      ]
    },
    {
      "cell_type": "code",
      "source": [
        "# calculate mean squared error\n",
        "mse_rand_f = mean_squared_error(y_test, preds_rand_f_reg)\n",
        "\n",
        "# calculate mean absolute error\n",
        "mae_rand_f = mean_absolute_error(y_test, preds_rand_f_reg)\n",
        "\n",
        "# print the MSE and MAE\n",
        "print('MSE:', mse_rand_f)\n",
        "print('MAE:', mae_rand_f)"
      ],
      "metadata": {
        "colab": {
          "base_uri": "https://localhost:8080/"
        },
        "id": "yjcJm6WhwG5J",
        "outputId": "73968056-9387-408d-d858-dbfcb83756cb"
      },
      "execution_count": null,
      "outputs": [
        {
          "output_type": "stream",
          "name": "stdout",
          "text": [
            "MSE: 0.6885578787626079\n",
            "MAE: 0.5198296578353047\n"
          ]
        }
      ]
    },
    {
      "cell_type": "markdown",
      "source": [
        "## Plot Error"
      ],
      "metadata": {
        "id": "OmCwUCkf6LOw"
      }
    },
    {
      "cell_type": "code",
      "source": [
        "import matplotlib.pyplot as plt\n",
        "\n",
        "# MSE and MAE values for the four models\n",
        "mse_scores = [mse_lr, mse_knn, mse_dt, mse_rand_f]\n",
        "mae_scores = [mae_lr, mae_knn, mae_dt, mae_rand_f]\n",
        "\n",
        "# Model labels\n",
        "labels = ['Linear Regression', 'KNN', 'Decision Tree', 'Random Forest']\n",
        "\n",
        "# Plotting MSE and MAE\n",
        "x_pos = range(len(labels))\n",
        "plt.bar(x_pos, mse_scores, align='center', alpha=0.7, color='blue', label='MSE')\n",
        "plt.bar(x_pos, mae_scores, align='center', alpha=0.7, color='orange', label='MAE')\n",
        "plt.xticks(x_pos, labels)\n",
        "plt.xlabel('Models')\n",
        "plt.ylabel('Error')\n",
        "plt.title('MSE and MAE of Models')\n",
        "plt.legend()\n",
        "plt.tight_layout()\n",
        "plt.show()"
      ],
      "metadata": {
        "colab": {
          "base_uri": "https://localhost:8080/",
          "height": 487
        },
        "id": "Z6od-J62wYAD",
        "outputId": "ba103e22-fb35-449f-ed8f-d425ad66b370"
      },
      "execution_count": null,
      "outputs": [
        {
          "output_type": "display_data",
          "data": {
            "text/plain": [
              "<Figure size 640x480 with 1 Axes>"
            ],
            "image/png": "[encoded data removed]"
          },
          "metadata": {}
        }
      ]
    },
    {
      "cell_type": "markdown",
      "source": [
        "I got the smallest error of Decision Tree among all the models"
      ],
      "metadata": {
        "id": "2qyxrmPl3WSn"
      }
    },
    {
      "cell_type": "markdown",
      "source": [
        "## Different test set"
      ],
      "metadata": {
        "id": "A1O3m5Ny5BLF"
      }
    },
    {
      "cell_type": "code",
      "source": [
        "# Split the data into training and test sets\n",
        "X_train, X_test, y_train, y_test = train_test_split(x, y, test_size=0.2, random_state=52)"
      ],
      "metadata": {
        "id": "WHtcDGyp3H3W"
      },
      "execution_count": null,
      "outputs": []
    },
    {
      "cell_type": "code",
      "source": [
        "# Predict on test dataset\n",
        "preds_lr = lr.predict(x_test)\n",
        "preds_knn_reg = knn_reg.predict(x_test)\n",
        "preds_dt_reg = dt_reg.predict(x_test)\n",
        "preds_rand_f_reg = rand_f_reg.predict(x_test)"
      ],
      "metadata": {
        "id": "MX6MMwki5OoU"
      },
      "execution_count": null,
      "outputs": []
    },
    {
      "cell_type": "code",
      "source": [
        "# calculate mean squared error and MAE\n",
        "mse_lr = mean_squared_error(y_test, preds_lr)\n",
        "mae_lr = mean_absolute_error(y_test, preds_lr)\n",
        "\n",
        "mse_knn = mean_squared_error(y_test, preds_knn_reg)\n",
        "mae_knn = mean_absolute_error(y_test, preds_knn_reg)\n",
        "\n",
        "\n",
        "mse_dt = mean_squared_error(y_test, preds_dt_reg)\n",
        "mae_dt = mean_absolute_error(y_test, preds_dt_reg)\n",
        "\n",
        "\n",
        "mse_rand_f = mean_squared_error(y_test, preds_rand_f_reg)\n",
        "mae_rand_f = mean_absolute_error(y_test, preds_rand_f_reg)"
      ],
      "metadata": {
        "id": "TebnOxfw5mzP"
      },
      "execution_count": null,
      "outputs": []
    },
    {
      "cell_type": "code",
      "source": [
        "import matplotlib.pyplot as plt\n",
        "\n",
        "# MSE and MAE values for the four models\n",
        "mse_scores = [mse_lr, mse_knn, mse_dt, mse_rand_f]\n",
        "mae_scores = [mae_lr, mae_knn, mae_dt, mae_rand_f]\n",
        "\n",
        "# Model labels\n",
        "labels = ['Linear Regression', 'KNN', 'Decision Tree', 'Random Forest']\n",
        "\n",
        "# Plotting MSE and MAE\n",
        "x_pos = range(len(labels))\n",
        "plt.bar(x_pos, mse_scores, align='center', alpha=0.7, color='blue', label='MSE')\n",
        "plt.bar(x_pos, mae_scores, align='center', alpha=0.7, color='orange', label='MAE')\n",
        "plt.xticks(x_pos, labels)\n",
        "plt.xlabel('Models')\n",
        "plt.ylabel('Error')\n",
        "plt.title('MSE and MAE of Models')\n",
        "plt.legend()\n",
        "plt.tight_layout()\n",
        "plt.show()"
      ],
      "metadata": {
        "colab": {
          "base_uri": "https://localhost:8080/",
          "height": 487
        },
        "id": "vm0BCvR_6CcY",
        "outputId": "66160807-f5ca-493e-fce9-e6c4b8587c29"
      },
      "execution_count": null,
      "outputs": [
        {
          "output_type": "display_data",
          "data": {
            "text/plain": [
              "<Figure size 640x480 with 1 Axes>"
            ],
            "image/png": "[encoded data removed]"
          },
          "metadata": {}
        }
      ]
    },
    {
      "cell_type": "markdown",
      "source": [
        "the Error is too high thats mean the model moght be overfitting on the previous data and one more reason is may be the data leakage."
      ],
      "metadata": {
        "id": "uDfNc5Yk7SuD"
      }
    },
    {
      "cell_type": "code",
      "source": [],
      "metadata": {
        "id": "tJ8hH3Zz6Sdp"
      },
      "execution_count": null,
      "outputs": []
    }
  ]
}